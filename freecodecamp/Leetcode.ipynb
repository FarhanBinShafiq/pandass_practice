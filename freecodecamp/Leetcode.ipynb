{
 "cells": [
  {
   "cell_type": "code",
   "execution_count": null,
   "id": "7182dda2-078e-495f-afb1-4b00acf1e981",
   "metadata": {},
   "outputs": [],
   "source": [
    "import pandas as pd\n"
   ]
  },
  {
   "cell_type": "markdown",
   "id": "3b91a6c3-ea94-464d-8931-f26ef813b832",
   "metadata": {},
   "source": [
    "# ***The let code solution show error because here is no list or csv provided ,the code will work on the letcode editor ***\n"
   ]
  },
  {
   "cell_type": "markdown",
   "id": "9683336f-68e3-4281-b69a-2ce47886ca1a",
   "metadata": {},
   "source": [
    "#  create a DataFrame from a 2D list \n"
   ]
  },
  {
   "cell_type": "code",
   "execution_count": null,
   "id": "25085d66-0d85-4b07-a0b7-e60d01954986",
   "metadata": {},
   "outputs": [],
   "source": [
    "list= [[1,15],[2,11],[3,11],[4,20]]\n",
    "df=pd.DataFrame(list,columns=['student_id','age'])\n",
    "df"
   ]
  },
  {
   "cell_type": "markdown",
   "id": "5b255f4b-575b-4b49-b8f1-468e7e5e3713",
   "metadata": {},
   "source": [
    "## letcode Solution\n",
    "def createDataframe(student_data: List[List[int]]):\n",
    "    return pd.DataFrame(student_data,columns=['student_id','age'])\n",
    "\n",
    " "
   ]
  },
  {
   "cell_type": "markdown",
   "id": "92824f8b-2928-4967-aaae-229ef78e935c",
   "metadata": {},
   "source": [
    "# Get the Size of a DataFrame\n",
    "DataFrame players:\n",
    "+-------------+--------+\n",
    "| Column Name | Type   |\n",
    "+-------------+--------+\n",
    "| player_id   | int    |\n",
    "| name        | object |\n",
    "| age         | int    |\n",
    "| position    | object |\n",
    "| ...         | ...    |\n",
    "+-------------+--------+\n",
    "Write a solution to calculate and display the number of rows and columns of players.\n",
    "\n",
    "Return the result as an array:\n",
    "\n",
    "[number of rows, number of columns]"
   ]
  },
  {
   "cell_type": "markdown",
   "id": "bab631de-b4b1-4368-8343-0ade19c4957d",
   "metadata": {},
   "source": [
    " \n",
    "#Solution of upper question\n",
    "def getDataframeSize(players: pd.DataFrame) -> List[int]:\n",
    "        return [players.shape[0], players.shape[1]]\n",
    "\n",
    "# here in return 1st part is indicate the row and 2nd part is idicate the columns "
   ]
  },
  {
   "cell_type": "code",
   "execution_count": null,
   "id": "8a9b90d5-40f0-40cf-aac0-aca271121c2f",
   "metadata": {},
   "outputs": [],
   "source": []
  }
 ],
 "metadata": {
  "kernelspec": {
   "display_name": "Python 3 (ipykernel)",
   "language": "python",
   "name": "python3"
  },
  "language_info": {
   "codemirror_mode": {
    "name": "ipython",
    "version": 3
   },
   "file_extension": ".py",
   "mimetype": "text/x-python",
   "name": "python",
   "nbconvert_exporter": "python",
   "pygments_lexer": "ipython3",
   "version": "3.12.0"
  }
 },
 "nbformat": 4,
 "nbformat_minor": 5
}
