{
 "cells": [
  {
   "cell_type": "code",
   "execution_count": 1,
   "id": "7182dda2-078e-495f-afb1-4b00acf1e981",
   "metadata": {},
   "outputs": [],
   "source": [
    "import pandas as pd\n"
   ]
  },
  {
   "cell_type": "markdown",
   "id": "3b91a6c3-ea94-464d-8931-f26ef813b832",
   "metadata": {},
   "source": [
    "# ***The let code solution show error because here is no list or csv provided ,the code will work on the letcode editor ***\n"
   ]
  },
  {
   "cell_type": "markdown",
   "id": "9683336f-68e3-4281-b69a-2ce47886ca1a",
   "metadata": {},
   "source": [
    "#  create a DataFrame from a 2D list \n"
   ]
  },
  {
   "cell_type": "code",
   "execution_count": 2,
   "id": "25085d66-0d85-4b07-a0b7-e60d01954986",
   "metadata": {},
   "outputs": [
    {
     "data": {
      "text/html": [
       "<div>\n",
       "<style scoped>\n",
       "    .dataframe tbody tr th:only-of-type {\n",
       "        vertical-align: middle;\n",
       "    }\n",
       "\n",
       "    .dataframe tbody tr th {\n",
       "        vertical-align: top;\n",
       "    }\n",
       "\n",
       "    .dataframe thead th {\n",
       "        text-align: right;\n",
       "    }\n",
       "</style>\n",
       "<table border=\"1\" class=\"dataframe\">\n",
       "  <thead>\n",
       "    <tr style=\"text-align: right;\">\n",
       "      <th></th>\n",
       "      <th>student_id</th>\n",
       "      <th>age</th>\n",
       "    </tr>\n",
       "  </thead>\n",
       "  <tbody>\n",
       "    <tr>\n",
       "      <th>0</th>\n",
       "      <td>1</td>\n",
       "      <td>15</td>\n",
       "    </tr>\n",
       "    <tr>\n",
       "      <th>1</th>\n",
       "      <td>2</td>\n",
       "      <td>11</td>\n",
       "    </tr>\n",
       "    <tr>\n",
       "      <th>2</th>\n",
       "      <td>3</td>\n",
       "      <td>11</td>\n",
       "    </tr>\n",
       "    <tr>\n",
       "      <th>3</th>\n",
       "      <td>4</td>\n",
       "      <td>20</td>\n",
       "    </tr>\n",
       "  </tbody>\n",
       "</table>\n",
       "</div>"
      ],
      "text/plain": [
       "   student_id  age\n",
       "0           1   15\n",
       "1           2   11\n",
       "2           3   11\n",
       "3           4   20"
      ]
     },
     "execution_count": 2,
     "metadata": {},
     "output_type": "execute_result"
    }
   ],
   "source": [
    "list= [[1,15],[2,11],[3,11],[4,20]]\n",
    "df=pd.DataFrame(list,columns=['student_id','age'])\n",
    "df"
   ]
  },
  {
   "cell_type": "raw",
   "id": "f9cb1da6-356b-4a72-bc3f-937a955c9377",
   "metadata": {},
   "source": [
    "##letcode Solution\n",
    "def createDataframe(student_data: List[List[int]]):\n",
    "    return pd.DataFrame(student_data,columns=['student_id','age'])\n",
    "\n",
    " "
   ]
  },
  {
   "cell_type": "raw",
   "id": "fea767f4-b4cc-465b-9221-5832d8c41cb2",
   "metadata": {},
   "source": [
    "# Get the Size of a DataFrame\n",
    "DataFrame players:\n",
    "+-------------+--------+\n",
    "| Column Name | Type   |\n",
    "+-------------+--------+\n",
    "| player_id   | int    |\n",
    "| name        | object |\n",
    "| age         | int    |\n",
    "| position    | object |\n",
    "| ...         | ...    |\n",
    "+-------------+--------+\n",
    "Write a solution to calculate and display the number of rows and columns of players.\n",
    "\n",
    "Return the result as an array:\n",
    "\n",
    "[number of rows, number of columns]"
   ]
  },
  {
   "cell_type": "raw",
   "id": "2d8478f8-ca79-45a5-988d-e9d74673c74f",
   "metadata": {},
   "source": [
    " \n",
    "#Solution of upper question\n",
    "def getDataframeSize(players: pd.DataFrame) -> List[int]:\n",
    "        return [players.shape[0], players.shape[1]]\n",
    "\n",
    "# here in return 1st part is indicate the row and 2nd part is idicate the columns "
   ]
  },
  {
   "cell_type": "code",
   "execution_count": null,
   "id": "8a9b90d5-40f0-40cf-aac0-aca271121c2f",
   "metadata": {},
   "outputs": [],
   "source": []
  }
 ],
 "metadata": {
  "kernelspec": {
   "display_name": "Python 3 (ipykernel)",
   "language": "python",
   "name": "python3"
  },
  "language_info": {
   "codemirror_mode": {
    "name": "ipython",
    "version": 3
   },
   "file_extension": ".py",
   "mimetype": "text/x-python",
   "name": "python",
   "nbconvert_exporter": "python",
   "pygments_lexer": "ipython3",
   "version": "3.12.0"
  }
 },
 "nbformat": 4,
 "nbformat_minor": 5
}
