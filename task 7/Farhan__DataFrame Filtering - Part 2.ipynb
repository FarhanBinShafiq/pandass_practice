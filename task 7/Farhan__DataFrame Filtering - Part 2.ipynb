{
 "cells": [
  {
   "cell_type": "markdown",
   "id": "c45b6774-cf30-4885-b98c-14dc4bbab570",
   "metadata": {},
   "source": [
    "Disclaimer: The below code is explained in author's perspective. Feel free to correct out if any mistake is found."
   ]
  },
  {
   "cell_type": "code",
   "execution_count": 8,
   "id": "a9844ae7-1bfd-4b56-bbd5-71db6ddf6c13",
   "metadata": {},
   "outputs": [],
   "source": [
    "import pandas as pd"
   ]
  },
  {
   "cell_type": "code",
   "execution_count": 2,
   "id": "e56b0d37-8e03-4e40-a3f7-b5c84ae9fe23",
   "metadata": {},
   "outputs": [
    {
     "name": "stdout",
     "output_type": "stream",
     "text": [
      "     Name  Age        City  Gender Profession\n",
      "0   Anika   20       Dhaka  female    Student\n",
      "1     Raj   22    Rajshahi    male    Teacher\n",
      "2  Saarah   27       Dhaka  female   Engineer\n",
      "3   Zahra   29  Chittagong  female  Economist\n",
      "4   Abrar   25    Rajshahi    male     Doctor\n"
     ]
    }
   ],
   "source": [
    "data = [['Anika', 20,\"Dhaka\",\"female\",\"Student\"],\n",
    "       ['Raj', 22,\"Rajshahi\",\"male\",\"Teacher\"],\n",
    "       ['Saarah', 27,\"Dhaka\",\"female\",\"Engineer\"],\n",
    "       ['Zahra', 29,\"Chittagong\",\"female\",\"Economist\"],\n",
    "       ['Abrar', 25,\"Rajshahi\",\"male\",\"Doctor\"]]\n",
    "df = pd.DataFrame(data, columns=['Name', 'Age','City',\"Gender\",'Profession'])\n",
    "print(df)"
   ]
  },
  {
   "cell_type": "markdown",
   "id": "7fe9bf89-a8cb-44b9-bfce-c77531257c93",
   "metadata": {},
   "source": [
    "# Previous questions"
   ]
  },
  {
   "cell_type": "markdown",
   "id": "7706950b-3898-4277-9cdc-0b6ec4129ad2",
   "metadata": {},
   "source": [
    "The questions were: \n",
    "1. Information of people whose age > 20 \n",
    "2. Information of people who lives in Rajshahi \n",
    "3. Information of people whose gender is male "
   ]
  },
  {
   "cell_type": "markdown",
   "id": "30d4e286-83a8-4cca-972c-e70209e29331",
   "metadata": {},
   "source": [
    "### Information of people whose age > 20 "
   ]
  },
  {
   "cell_type": "markdown",
   "id": "f19fb495-96c3-47cb-afe8-a217b2501c99",
   "metadata": {},
   "source": [
    "Now, to find the information of people whose age > 20, the below code gives a series object of true and false values."
   ]
  },
  {
   "cell_type": "code",
   "execution_count": 3,
   "id": "dd998f03-5986-4b18-a93c-b8534e225bd2",
   "metadata": {},
   "outputs": [
    {
     "data": {
      "text/plain": [
       "0    False\n",
       "1     True\n",
       "2     True\n",
       "3     True\n",
       "4     True\n",
       "Name: Age, dtype: bool"
      ]
     },
     "execution_count": 3,
     "metadata": {},
     "output_type": "execute_result"
    }
   ],
   "source": [
    "df[\"Age\"] > 20"
   ]
  },
  {
   "cell_type": "markdown",
   "id": "abfe9059-fbcf-4baf-b115-d598cf82193d",
   "metadata": {},
   "source": [
    "Now, to find the rows which will only return the true values and false values will be dropped, the code is given below:"
   ]
  },
  {
   "cell_type": "code",
   "execution_count": 4,
   "id": "ba75c78a-037c-46e3-8408-6debd9a89c24",
   "metadata": {},
   "outputs": [
    {
     "data": {
      "text/plain": [
       "<bound method DataFrame.all of      Name  Age        City  Gender Profession\n",
       "1     Raj   22    Rajshahi    male    Teacher\n",
       "2  Saarah   27       Dhaka  female   Engineer\n",
       "3   Zahra   29  Chittagong  female  Economist\n",
       "4   Abrar   25    Rajshahi    male     Doctor>"
      ]
     },
     "execution_count": 4,
     "metadata": {},
     "output_type": "execute_result"
    }
   ],
   "source": [
    "(df[df[\"Age\"] > 20]).all"
   ]
  },
  {
   "cell_type": "markdown",
   "id": "6084b321-b27f-4ebb-a0ba-d6ad62a94ec2",
   "metadata": {},
   "source": [
    "Now, to only get the rows with original index, the index has to be reset."
   ]
  },
  {
   "cell_type": "code",
   "execution_count": 5,
   "id": "130dd94f-ac82-405f-a539-b51db4b335b9",
   "metadata": {},
   "outputs": [
    {
     "data": {
      "text/html": [
       "<div>\n",
       "<style scoped>\n",
       "    .dataframe tbody tr th:only-of-type {\n",
       "        vertical-align: middle;\n",
       "    }\n",
       "\n",
       "    .dataframe tbody tr th {\n",
       "        vertical-align: top;\n",
       "    }\n",
       "\n",
       "    .dataframe thead th {\n",
       "        text-align: right;\n",
       "    }\n",
       "</style>\n",
       "<table border=\"1\" class=\"dataframe\">\n",
       "  <thead>\n",
       "    <tr style=\"text-align: right;\">\n",
       "      <th></th>\n",
       "      <th>index</th>\n",
       "      <th>Name</th>\n",
       "      <th>Age</th>\n",
       "      <th>City</th>\n",
       "      <th>Gender</th>\n",
       "      <th>Profession</th>\n",
       "    </tr>\n",
       "  </thead>\n",
       "  <tbody>\n",
       "    <tr>\n",
       "      <th>0</th>\n",
       "      <td>1</td>\n",
       "      <td>Raj</td>\n",
       "      <td>22</td>\n",
       "      <td>Rajshahi</td>\n",
       "      <td>male</td>\n",
       "      <td>Teacher</td>\n",
       "    </tr>\n",
       "    <tr>\n",
       "      <th>1</th>\n",
       "      <td>2</td>\n",
       "      <td>Saarah</td>\n",
       "      <td>27</td>\n",
       "      <td>Dhaka</td>\n",
       "      <td>female</td>\n",
       "      <td>Engineer</td>\n",
       "    </tr>\n",
       "    <tr>\n",
       "      <th>2</th>\n",
       "      <td>3</td>\n",
       "      <td>Zahra</td>\n",
       "      <td>29</td>\n",
       "      <td>Chittagong</td>\n",
       "      <td>female</td>\n",
       "      <td>Economist</td>\n",
       "    </tr>\n",
       "    <tr>\n",
       "      <th>3</th>\n",
       "      <td>4</td>\n",
       "      <td>Abrar</td>\n",
       "      <td>25</td>\n",
       "      <td>Rajshahi</td>\n",
       "      <td>male</td>\n",
       "      <td>Doctor</td>\n",
       "    </tr>\n",
       "  </tbody>\n",
       "</table>\n",
       "</div>"
      ],
      "text/plain": [
       "   index    Name  Age        City  Gender Profession\n",
       "0      1     Raj   22    Rajshahi    male    Teacher\n",
       "1      2  Saarah   27       Dhaka  female   Engineer\n",
       "2      3   Zahra   29  Chittagong  female  Economist\n",
       "3      4   Abrar   25    Rajshahi    male     Doctor"
      ]
     },
     "execution_count": 5,
     "metadata": {},
     "output_type": "execute_result"
    }
   ],
   "source": [
    "df[df[\"Age\"] > 20].reset_index()"
   ]
  },
  {
   "cell_type": "markdown",
   "id": "df09c78c-b760-4402-bca8-6e066d06f5b3",
   "metadata": {},
   "source": [
    "The index column can be dropped by the following code:"
   ]
  },
  {
   "cell_type": "code",
   "execution_count": 6,
   "id": "c8863dfd-53de-455d-877e-4c67771d6d20",
   "metadata": {},
   "outputs": [
    {
     "data": {
      "text/html": [
       "<div>\n",
       "<style scoped>\n",
       "    .dataframe tbody tr th:only-of-type {\n",
       "        vertical-align: middle;\n",
       "    }\n",
       "\n",
       "    .dataframe tbody tr th {\n",
       "        vertical-align: top;\n",
       "    }\n",
       "\n",
       "    .dataframe thead th {\n",
       "        text-align: right;\n",
       "    }\n",
       "</style>\n",
       "<table border=\"1\" class=\"dataframe\">\n",
       "  <thead>\n",
       "    <tr style=\"text-align: right;\">\n",
       "      <th></th>\n",
       "      <th>Name</th>\n",
       "      <th>Age</th>\n",
       "      <th>City</th>\n",
       "      <th>Gender</th>\n",
       "      <th>Profession</th>\n",
       "    </tr>\n",
       "  </thead>\n",
       "  <tbody>\n",
       "    <tr>\n",
       "      <th>0</th>\n",
       "      <td>Raj</td>\n",
       "      <td>22</td>\n",
       "      <td>Rajshahi</td>\n",
       "      <td>male</td>\n",
       "      <td>Teacher</td>\n",
       "    </tr>\n",
       "    <tr>\n",
       "      <th>1</th>\n",
       "      <td>Saarah</td>\n",
       "      <td>27</td>\n",
       "      <td>Dhaka</td>\n",
       "      <td>female</td>\n",
       "      <td>Engineer</td>\n",
       "    </tr>\n",
       "    <tr>\n",
       "      <th>2</th>\n",
       "      <td>Zahra</td>\n",
       "      <td>29</td>\n",
       "      <td>Chittagong</td>\n",
       "      <td>female</td>\n",
       "      <td>Economist</td>\n",
       "    </tr>\n",
       "    <tr>\n",
       "      <th>3</th>\n",
       "      <td>Abrar</td>\n",
       "      <td>25</td>\n",
       "      <td>Rajshahi</td>\n",
       "      <td>male</td>\n",
       "      <td>Doctor</td>\n",
       "    </tr>\n",
       "  </tbody>\n",
       "</table>\n",
       "</div>"
      ],
      "text/plain": [
       "     Name  Age        City  Gender Profession\n",
       "0     Raj   22    Rajshahi    male    Teacher\n",
       "1  Saarah   27       Dhaka  female   Engineer\n",
       "2   Zahra   29  Chittagong  female  Economist\n",
       "3   Abrar   25    Rajshahi    male     Doctor"
      ]
     },
     "execution_count": 6,
     "metadata": {},
     "output_type": "execute_result"
    }
   ],
   "source": [
    "df[df[\"Age\"] > 20].reset_index(drop=True)"
   ]
  },
  {
   "cell_type": "markdown",
   "id": "feb78f3e-64ab-4e47-891e-f1c74b763bae",
   "metadata": {},
   "source": [
    "### Information of people who lives in Rajshahi "
   ]
  },
  {
   "cell_type": "markdown",
   "id": "b1eea506-8f14-491d-b920-9bb85f3fdab1",
   "metadata": {},
   "source": [
    "Now the information of the people (rows) has to be printed whose city is in Rajshahi."
   ]
  },
  {
   "cell_type": "code",
   "execution_count": 9,
   "id": "a5f0da51-641d-4c01-a86b-2408035fd61b",
   "metadata": {
    "scrolled": true
   },
   "outputs": [
    {
     "ename": "KeyError",
     "evalue": "'city'",
     "output_type": "error",
     "traceback": [
      "\u001b[1;31m---------------------------------------------------------------------------\u001b[0m",
      "\u001b[1;31mKeyError\u001b[0m                                  Traceback (most recent call last)",
      "File \u001b[1;32m~\\AppData\\Local\\Programs\\Python\\Python312\\Lib\\site-packages\\pandas\\core\\indexes\\base.py:3790\u001b[0m, in \u001b[0;36mIndex.get_loc\u001b[1;34m(self, key)\u001b[0m\n\u001b[0;32m   3789\u001b[0m \u001b[38;5;28;01mtry\u001b[39;00m:\n\u001b[1;32m-> 3790\u001b[0m     \u001b[38;5;28;01mreturn\u001b[39;00m \u001b[38;5;28;43mself\u001b[39;49m\u001b[38;5;241;43m.\u001b[39;49m\u001b[43m_engine\u001b[49m\u001b[38;5;241;43m.\u001b[39;49m\u001b[43mget_loc\u001b[49m\u001b[43m(\u001b[49m\u001b[43mcasted_key\u001b[49m\u001b[43m)\u001b[49m\n\u001b[0;32m   3791\u001b[0m \u001b[38;5;28;01mexcept\u001b[39;00m \u001b[38;5;167;01mKeyError\u001b[39;00m \u001b[38;5;28;01mas\u001b[39;00m err:\n",
      "File \u001b[1;32mindex.pyx:152\u001b[0m, in \u001b[0;36mpandas._libs.index.IndexEngine.get_loc\u001b[1;34m()\u001b[0m\n",
      "File \u001b[1;32mindex.pyx:181\u001b[0m, in \u001b[0;36mpandas._libs.index.IndexEngine.get_loc\u001b[1;34m()\u001b[0m\n",
      "File \u001b[1;32mpandas\\_libs\\hashtable_class_helper.pxi:7080\u001b[0m, in \u001b[0;36mpandas._libs.hashtable.PyObjectHashTable.get_item\u001b[1;34m()\u001b[0m\n",
      "File \u001b[1;32mpandas\\_libs\\hashtable_class_helper.pxi:7088\u001b[0m, in \u001b[0;36mpandas._libs.hashtable.PyObjectHashTable.get_item\u001b[1;34m()\u001b[0m\n",
      "\u001b[1;31mKeyError\u001b[0m: 'city'",
      "\nThe above exception was the direct cause of the following exception:\n",
      "\u001b[1;31mKeyError\u001b[0m                                  Traceback (most recent call last)",
      "Cell \u001b[1;32mIn[9], line 1\u001b[0m\n\u001b[1;32m----> 1\u001b[0m \u001b[43mdf\u001b[49m\u001b[43m[\u001b[49m\u001b[38;5;124;43m\"\u001b[39;49m\u001b[38;5;124;43mcity\u001b[39;49m\u001b[38;5;124;43m\"\u001b[39;49m\u001b[43m]\u001b[49m \u001b[38;5;241m==\u001b[39m \u001b[38;5;124m\"\u001b[39m\u001b[38;5;124mRajshahi\u001b[39m\u001b[38;5;124m\"\u001b[39m\n",
      "File \u001b[1;32m~\\AppData\\Local\\Programs\\Python\\Python312\\Lib\\site-packages\\pandas\\core\\frame.py:3893\u001b[0m, in \u001b[0;36mDataFrame.__getitem__\u001b[1;34m(self, key)\u001b[0m\n\u001b[0;32m   3891\u001b[0m \u001b[38;5;28;01mif\u001b[39;00m \u001b[38;5;28mself\u001b[39m\u001b[38;5;241m.\u001b[39mcolumns\u001b[38;5;241m.\u001b[39mnlevels \u001b[38;5;241m>\u001b[39m \u001b[38;5;241m1\u001b[39m:\n\u001b[0;32m   3892\u001b[0m     \u001b[38;5;28;01mreturn\u001b[39;00m \u001b[38;5;28mself\u001b[39m\u001b[38;5;241m.\u001b[39m_getitem_multilevel(key)\n\u001b[1;32m-> 3893\u001b[0m indexer \u001b[38;5;241m=\u001b[39m \u001b[38;5;28;43mself\u001b[39;49m\u001b[38;5;241;43m.\u001b[39;49m\u001b[43mcolumns\u001b[49m\u001b[38;5;241;43m.\u001b[39;49m\u001b[43mget_loc\u001b[49m\u001b[43m(\u001b[49m\u001b[43mkey\u001b[49m\u001b[43m)\u001b[49m\n\u001b[0;32m   3894\u001b[0m \u001b[38;5;28;01mif\u001b[39;00m is_integer(indexer):\n\u001b[0;32m   3895\u001b[0m     indexer \u001b[38;5;241m=\u001b[39m [indexer]\n",
      "File \u001b[1;32m~\\AppData\\Local\\Programs\\Python\\Python312\\Lib\\site-packages\\pandas\\core\\indexes\\base.py:3797\u001b[0m, in \u001b[0;36mIndex.get_loc\u001b[1;34m(self, key)\u001b[0m\n\u001b[0;32m   3792\u001b[0m     \u001b[38;5;28;01mif\u001b[39;00m \u001b[38;5;28misinstance\u001b[39m(casted_key, \u001b[38;5;28mslice\u001b[39m) \u001b[38;5;129;01mor\u001b[39;00m (\n\u001b[0;32m   3793\u001b[0m         \u001b[38;5;28misinstance\u001b[39m(casted_key, abc\u001b[38;5;241m.\u001b[39mIterable)\n\u001b[0;32m   3794\u001b[0m         \u001b[38;5;129;01mand\u001b[39;00m \u001b[38;5;28many\u001b[39m(\u001b[38;5;28misinstance\u001b[39m(x, \u001b[38;5;28mslice\u001b[39m) \u001b[38;5;28;01mfor\u001b[39;00m x \u001b[38;5;129;01min\u001b[39;00m casted_key)\n\u001b[0;32m   3795\u001b[0m     ):\n\u001b[0;32m   3796\u001b[0m         \u001b[38;5;28;01mraise\u001b[39;00m InvalidIndexError(key)\n\u001b[1;32m-> 3797\u001b[0m     \u001b[38;5;28;01mraise\u001b[39;00m \u001b[38;5;167;01mKeyError\u001b[39;00m(key) \u001b[38;5;28;01mfrom\u001b[39;00m \u001b[38;5;21;01merr\u001b[39;00m\n\u001b[0;32m   3798\u001b[0m \u001b[38;5;28;01mexcept\u001b[39;00m \u001b[38;5;167;01mTypeError\u001b[39;00m:\n\u001b[0;32m   3799\u001b[0m     \u001b[38;5;66;03m# If we have a listlike key, _check_indexing_error will raise\u001b[39;00m\n\u001b[0;32m   3800\u001b[0m     \u001b[38;5;66;03m#  InvalidIndexError. Otherwise we fall through and re-raise\u001b[39;00m\n\u001b[0;32m   3801\u001b[0m     \u001b[38;5;66;03m#  the TypeError.\u001b[39;00m\n\u001b[0;32m   3802\u001b[0m     \u001b[38;5;28mself\u001b[39m\u001b[38;5;241m.\u001b[39m_check_indexing_error(key)\n",
      "\u001b[1;31mKeyError\u001b[0m: 'city'"
     ]
    }
   ],
   "source": [
    "df[\"city\"] == \"Rajshahi\""
   ]
  },
  {
   "cell_type": "markdown",
   "id": "e51f9375-4830-4246-bcf9-fbe747d9801a",
   "metadata": {},
   "source": [
    "Make sure the column name is typed properly.In this code, *KeyError* means 'city' column name does not belong to DataFrame df."
   ]
  },
  {
   "cell_type": "code",
   "execution_count": 10,
   "id": "0505ff17-5a55-4274-93a2-e206fe0211b9",
   "metadata": {},
   "outputs": [
    {
     "data": {
      "text/plain": [
       "0    False\n",
       "1     True\n",
       "2    False\n",
       "3    False\n",
       "4     True\n",
       "Name: City, dtype: bool"
      ]
     },
     "execution_count": 10,
     "metadata": {},
     "output_type": "execute_result"
    }
   ],
   "source": [
    "# Boolean values show which index in column 'City' matches 'Rajshahi'\n",
    "df[\"City\"] == \"Rajshahi\""
   ]
  },
  {
   "cell_type": "code",
   "execution_count": 11,
   "id": "b8dceb25-4d0a-47c8-949f-e6ae74c16bce",
   "metadata": {},
   "outputs": [
    {
     "data": {
      "text/html": [
       "<div>\n",
       "<style scoped>\n",
       "    .dataframe tbody tr th:only-of-type {\n",
       "        vertical-align: middle;\n",
       "    }\n",
       "\n",
       "    .dataframe tbody tr th {\n",
       "        vertical-align: top;\n",
       "    }\n",
       "\n",
       "    .dataframe thead th {\n",
       "        text-align: right;\n",
       "    }\n",
       "</style>\n",
       "<table border=\"1\" class=\"dataframe\">\n",
       "  <thead>\n",
       "    <tr style=\"text-align: right;\">\n",
       "      <th></th>\n",
       "      <th>Name</th>\n",
       "      <th>Age</th>\n",
       "      <th>City</th>\n",
       "      <th>Gender</th>\n",
       "      <th>Profession</th>\n",
       "    </tr>\n",
       "  </thead>\n",
       "  <tbody>\n",
       "    <tr>\n",
       "      <th>1</th>\n",
       "      <td>Raj</td>\n",
       "      <td>22</td>\n",
       "      <td>Rajshahi</td>\n",
       "      <td>male</td>\n",
       "      <td>Teacher</td>\n",
       "    </tr>\n",
       "    <tr>\n",
       "      <th>4</th>\n",
       "      <td>Abrar</td>\n",
       "      <td>25</td>\n",
       "      <td>Rajshahi</td>\n",
       "      <td>male</td>\n",
       "      <td>Doctor</td>\n",
       "    </tr>\n",
       "  </tbody>\n",
       "</table>\n",
       "</div>"
      ],
      "text/plain": [
       "    Name  Age      City Gender Profession\n",
       "1    Raj   22  Rajshahi   male    Teacher\n",
       "4  Abrar   25  Rajshahi   male     Doctor"
      ]
     },
     "execution_count": 11,
     "metadata": {},
     "output_type": "execute_result"
    }
   ],
   "source": [
    "# Will return the rows containing indexes 1 and 4 (as true values seen above)\n",
    "df[df[\"City\"] == \"Rajshahi\"]"
   ]
  },
  {
   "cell_type": "markdown",
   "id": "a3e0597b-4ac1-41bc-b709-dbfc586f61e5",
   "metadata": {},
   "source": [
    "### Information of people whose gender is male"
   ]
  },
  {
   "cell_type": "code",
   "execution_count": 12,
   "id": "3a289b82-8a44-49e3-9062-4662e79085db",
   "metadata": {},
   "outputs": [
    {
     "data": {
      "text/html": [
       "<div>\n",
       "<style scoped>\n",
       "    .dataframe tbody tr th:only-of-type {\n",
       "        vertical-align: middle;\n",
       "    }\n",
       "\n",
       "    .dataframe tbody tr th {\n",
       "        vertical-align: top;\n",
       "    }\n",
       "\n",
       "    .dataframe thead th {\n",
       "        text-align: right;\n",
       "    }\n",
       "</style>\n",
       "<table border=\"1\" class=\"dataframe\">\n",
       "  <thead>\n",
       "    <tr style=\"text-align: right;\">\n",
       "      <th></th>\n",
       "      <th>Name</th>\n",
       "      <th>Age</th>\n",
       "      <th>City</th>\n",
       "      <th>Gender</th>\n",
       "      <th>Profession</th>\n",
       "    </tr>\n",
       "  </thead>\n",
       "  <tbody>\n",
       "    <tr>\n",
       "      <th>0</th>\n",
       "      <td>Raj</td>\n",
       "      <td>22</td>\n",
       "      <td>Rajshahi</td>\n",
       "      <td>male</td>\n",
       "      <td>Teacher</td>\n",
       "    </tr>\n",
       "    <tr>\n",
       "      <th>1</th>\n",
       "      <td>Abrar</td>\n",
       "      <td>25</td>\n",
       "      <td>Rajshahi</td>\n",
       "      <td>male</td>\n",
       "      <td>Doctor</td>\n",
       "    </tr>\n",
       "  </tbody>\n",
       "</table>\n",
       "</div>"
      ],
      "text/plain": [
       "    Name  Age      City Gender Profession\n",
       "0    Raj   22  Rajshahi   male    Teacher\n",
       "1  Abrar   25  Rajshahi   male     Doctor"
      ]
     },
     "execution_count": 12,
     "metadata": {},
     "output_type": "execute_result"
    }
   ],
   "source": [
    "df[df[\"Gender\"]==\"male\"].reset_index(drop=True)"
   ]
  },
  {
   "cell_type": "markdown",
   "id": "b8cbcab7-5831-4630-b173-6a74d7235470",
   "metadata": {},
   "source": [
    "# More Questions"
   ]
  },
  {
   "cell_type": "markdown",
   "id": "e2a02041-a1fe-44b6-b92f-4d41761fa10c",
   "metadata": {},
   "source": [
    "1. The name of the city where Zahra lives in\n",
    "2. Information of people whose age is greater than 25 and lives in Dhaka\n",
    "3. Information of people whose age is greater than 25 and less than 30\n",
    "4. Information of people living in Dhaka or Chittagong"
   ]
  },
  {
   "cell_type": "markdown",
   "id": "4dbf7bf8-57eb-403a-9e6a-2da27a1dca3a",
   "metadata": {},
   "source": [
    "## Finding out values of specific column on data condition"
   ]
  },
  {
   "cell_type": "markdown",
   "id": "aec6d4ce-8abd-4b5f-a633-757b98101cd7",
   "metadata": {},
   "source": [
    "### 1. The name of the city where Zahra lives in "
   ]
  },
  {
   "cell_type": "code",
   "execution_count": 13,
   "id": "4fd37d40-3aeb-4614-88a0-5d3bdc146a53",
   "metadata": {},
   "outputs": [
    {
     "data": {
      "text/html": [
       "<div>\n",
       "<style scoped>\n",
       "    .dataframe tbody tr th:only-of-type {\n",
       "        vertical-align: middle;\n",
       "    }\n",
       "\n",
       "    .dataframe tbody tr th {\n",
       "        vertical-align: top;\n",
       "    }\n",
       "\n",
       "    .dataframe thead th {\n",
       "        text-align: right;\n",
       "    }\n",
       "</style>\n",
       "<table border=\"1\" class=\"dataframe\">\n",
       "  <thead>\n",
       "    <tr style=\"text-align: right;\">\n",
       "      <th></th>\n",
       "      <th>Name</th>\n",
       "      <th>Age</th>\n",
       "      <th>City</th>\n",
       "      <th>Gender</th>\n",
       "      <th>Profession</th>\n",
       "    </tr>\n",
       "  </thead>\n",
       "  <tbody>\n",
       "    <tr>\n",
       "      <th>0</th>\n",
       "      <td>Anika</td>\n",
       "      <td>20</td>\n",
       "      <td>Dhaka</td>\n",
       "      <td>female</td>\n",
       "      <td>Student</td>\n",
       "    </tr>\n",
       "    <tr>\n",
       "      <th>1</th>\n",
       "      <td>Raj</td>\n",
       "      <td>22</td>\n",
       "      <td>Rajshahi</td>\n",
       "      <td>male</td>\n",
       "      <td>Teacher</td>\n",
       "    </tr>\n",
       "    <tr>\n",
       "      <th>2</th>\n",
       "      <td>Saarah</td>\n",
       "      <td>27</td>\n",
       "      <td>Dhaka</td>\n",
       "      <td>female</td>\n",
       "      <td>Engineer</td>\n",
       "    </tr>\n",
       "    <tr>\n",
       "      <th>3</th>\n",
       "      <td>Zahra</td>\n",
       "      <td>29</td>\n",
       "      <td>Chittagong</td>\n",
       "      <td>female</td>\n",
       "      <td>Economist</td>\n",
       "    </tr>\n",
       "    <tr>\n",
       "      <th>4</th>\n",
       "      <td>Abrar</td>\n",
       "      <td>25</td>\n",
       "      <td>Rajshahi</td>\n",
       "      <td>male</td>\n",
       "      <td>Doctor</td>\n",
       "    </tr>\n",
       "  </tbody>\n",
       "</table>\n",
       "</div>"
      ],
      "text/plain": [
       "     Name  Age        City  Gender Profession\n",
       "0   Anika   20       Dhaka  female    Student\n",
       "1     Raj   22    Rajshahi    male    Teacher\n",
       "2  Saarah   27       Dhaka  female   Engineer\n",
       "3   Zahra   29  Chittagong  female  Economist\n",
       "4   Abrar   25    Rajshahi    male     Doctor"
      ]
     },
     "execution_count": 13,
     "metadata": {},
     "output_type": "execute_result"
    }
   ],
   "source": [
    "df"
   ]
  },
  {
   "cell_type": "markdown",
   "id": "8a59e09f-9a37-4084-aff9-b3a6d476e19a",
   "metadata": {},
   "source": [
    "Now, to find out the name of the city where Zahra lives in, we need only one information of the column \"City\", the other columns are not needed. Now, the format to find out the city, the below code is to be executed:"
   ]
  },
  {
   "cell_type": "code",
   "execution_count": 14,
   "id": "af24f3f2-c3e0-4e07-840a-30cbb6020e45",
   "metadata": {},
   "outputs": [
    {
     "data": {
      "text/plain": [
       "3    Chittagong\n",
       "Name: City, dtype: object"
      ]
     },
     "execution_count": 14,
     "metadata": {},
     "output_type": "execute_result"
    }
   ],
   "source": [
    "df[df[\"Name\"]==\"Zahra\"][\"City\"]"
   ]
  },
  {
   "cell_type": "markdown",
   "id": "eb0f950c-5ab7-4773-82f7-ec272970bfb6",
   "metadata": {},
   "source": [
    "One column in a DataFrame is a series column. Now, since the pandas series above contains only one row, the we can use pandas *Series.item()* function to return the single element *Chittagong*. More details on [2]"
   ]
  },
  {
   "cell_type": "code",
   "execution_count": 15,
   "id": "974c2d5c-4d51-4381-a2f2-7e01c3e385ff",
   "metadata": {},
   "outputs": [
    {
     "data": {
      "text/plain": [
       "'Chittagong'"
      ]
     },
     "execution_count": 15,
     "metadata": {},
     "output_type": "execute_result"
    }
   ],
   "source": [
    "df[df[\"Name\"]==\"Zahra\"][\"City\"].item()"
   ]
  },
  {
   "cell_type": "markdown",
   "id": "39518367-a6bc-42ac-8456-b0a440d278f5",
   "metadata": {},
   "source": [
    "However, *Series.item()* cannot be used if there are more than one element in the *Series* object. Below is a dataframe which shows names of the people living in Dhaka:"
   ]
  },
  {
   "cell_type": "code",
   "execution_count": 16,
   "id": "5931e6e7-b64a-4e68-91a4-ad15df998ca0",
   "metadata": {},
   "outputs": [
    {
     "data": {
      "text/plain": [
       "0     Anika\n",
       "2    Saarah\n",
       "Name: Name, dtype: object"
      ]
     },
     "execution_count": 16,
     "metadata": {},
     "output_type": "execute_result"
    }
   ],
   "source": [
    "df[df[\"City\"]==\"Dhaka\"][\"Name\"]"
   ]
  },
  {
   "cell_type": "markdown",
   "id": "e13e461e-8b5f-4bd1-962e-f0bef191e79e",
   "metadata": {},
   "source": [
    "Now, applying the *Series.item()* function gives the following error:"
   ]
  },
  {
   "cell_type": "code",
   "execution_count": 17,
   "id": "da92e0e4-e759-4dd5-bf7e-08a85ab0237c",
   "metadata": {},
   "outputs": [
    {
     "ename": "ValueError",
     "evalue": "can only convert an array of size 1 to a Python scalar",
     "output_type": "error",
     "traceback": [
      "\u001b[1;31m---------------------------------------------------------------------------\u001b[0m",
      "\u001b[1;31mValueError\u001b[0m                                Traceback (most recent call last)",
      "Cell \u001b[1;32mIn[17], line 1\u001b[0m\n\u001b[1;32m----> 1\u001b[0m \u001b[43mdf\u001b[49m\u001b[43m[\u001b[49m\u001b[43mdf\u001b[49m\u001b[43m[\u001b[49m\u001b[38;5;124;43m\"\u001b[39;49m\u001b[38;5;124;43mCity\u001b[39;49m\u001b[38;5;124;43m\"\u001b[39;49m\u001b[43m]\u001b[49m\u001b[38;5;241;43m==\u001b[39;49m\u001b[38;5;124;43m\"\u001b[39;49m\u001b[38;5;124;43mDhaka\u001b[39;49m\u001b[38;5;124;43m\"\u001b[39;49m\u001b[43m]\u001b[49m\u001b[43m[\u001b[49m\u001b[38;5;124;43m\"\u001b[39;49m\u001b[38;5;124;43mName\u001b[39;49m\u001b[38;5;124;43m\"\u001b[39;49m\u001b[43m]\u001b[49m\u001b[38;5;241;43m.\u001b[39;49m\u001b[43mitem\u001b[49m\u001b[43m(\u001b[49m\u001b[43m)\u001b[49m\n",
      "File \u001b[1;32m~\\AppData\\Local\\Programs\\Python\\Python312\\Lib\\site-packages\\pandas\\core\\base.py:418\u001b[0m, in \u001b[0;36mIndexOpsMixin.item\u001b[1;34m(self)\u001b[0m\n\u001b[0;32m    416\u001b[0m \u001b[38;5;28;01mif\u001b[39;00m \u001b[38;5;28mlen\u001b[39m(\u001b[38;5;28mself\u001b[39m) \u001b[38;5;241m==\u001b[39m \u001b[38;5;241m1\u001b[39m:\n\u001b[0;32m    417\u001b[0m     \u001b[38;5;28;01mreturn\u001b[39;00m \u001b[38;5;28mnext\u001b[39m(\u001b[38;5;28miter\u001b[39m(\u001b[38;5;28mself\u001b[39m))\n\u001b[1;32m--> 418\u001b[0m \u001b[38;5;28;01mraise\u001b[39;00m \u001b[38;5;167;01mValueError\u001b[39;00m(\u001b[38;5;124m\"\u001b[39m\u001b[38;5;124mcan only convert an array of size 1 to a Python scalar\u001b[39m\u001b[38;5;124m\"\u001b[39m)\n",
      "\u001b[1;31mValueError\u001b[0m: can only convert an array of size 1 to a Python scalar"
     ]
    }
   ],
   "source": [
    "df[df[\"City\"]==\"Dhaka\"][\"Name\"].item()"
   ]
  },
  {
   "cell_type": "markdown",
   "id": "34e429b6-db6b-4646-8720-06e12d2d9a5c",
   "metadata": {},
   "source": [
    "ValueError: can only convert an array of size 1 to a Python scalar - is shown as array size > 1."
   ]
  },
  {
   "cell_type": "markdown",
   "id": "f5994678-a9ab-4870-a83b-8b02778e8a5c",
   "metadata": {},
   "source": [
    "## Dataframe Filtering for more than one conditon"
   ]
  },
  {
   "cell_type": "markdown",
   "id": "a640df74-9fc2-4778-a510-bc8eaade75cd",
   "metadata": {},
   "source": [
    "Now, we all have an idea of truth table. Let's revise again of *or* operations and *and* operations. "
   ]
  },
  {
   "cell_type": "markdown",
   "id": "6e417b75-2807-4a16-aaab-c88f8bddc9e9",
   "metadata": {},
   "source": [
    "### AND operation"
   ]
  },
  {
   "cell_type": "markdown",
   "id": "27dfbf58-17e9-44f8-9225-0b685603785b",
   "metadata": {},
   "source": [
    " <center>Truth Table for *AND* operation for two inputs:</center>"
   ]
  },
  {
   "cell_type": "markdown",
   "id": "111faeb8-c247-46ad-8809-fe60abbc5620",
   "metadata": {},
   "source": [
    "| a   | b   | Output |\n",
    "|-----|-----|--------|\n",
    "| 0   | 0   | 0      |\n",
    "| 0   | 1   | 0      |\n",
    "| 1   | 0   | 0      |\n",
    "| 1   | 1   | 1      |"
   ]
  },
  {
   "cell_type": "markdown",
   "id": "9834f164-e074-4ad8-8b13-8d32b5cc9702",
   "metadata": {},
   "source": [
    "Now, the truth value is 0 if any input is 0 or both input is 0 and truth value is 1 if both inputs are 1. In DataFrame we will see 0 as False and 1 as True."
   ]
  },
  {
   "cell_type": "markdown",
   "id": "3297e3e4-ce56-4cc2-8846-768ce04287d8",
   "metadata": {},
   "source": [
    "#### 2. Information of people whose age is greater than 25 and lives in Dhaka"
   ]
  },
  {
   "cell_type": "markdown",
   "id": "0da755a7-1826-49d9-b11f-d060118e35dc",
   "metadata": {},
   "source": [
    "Now, the dataframe is"
   ]
  },
  {
   "cell_type": "code",
   "execution_count": 18,
   "id": "7a52e811-ef9e-43fd-81b5-3c648d1d2028",
   "metadata": {
    "scrolled": true
   },
   "outputs": [
    {
     "data": {
      "text/html": [
       "<div>\n",
       "<style scoped>\n",
       "    .dataframe tbody tr th:only-of-type {\n",
       "        vertical-align: middle;\n",
       "    }\n",
       "\n",
       "    .dataframe tbody tr th {\n",
       "        vertical-align: top;\n",
       "    }\n",
       "\n",
       "    .dataframe thead th {\n",
       "        text-align: right;\n",
       "    }\n",
       "</style>\n",
       "<table border=\"1\" class=\"dataframe\">\n",
       "  <thead>\n",
       "    <tr style=\"text-align: right;\">\n",
       "      <th></th>\n",
       "      <th>Name</th>\n",
       "      <th>Age</th>\n",
       "      <th>City</th>\n",
       "      <th>Gender</th>\n",
       "      <th>Profession</th>\n",
       "    </tr>\n",
       "  </thead>\n",
       "  <tbody>\n",
       "    <tr>\n",
       "      <th>0</th>\n",
       "      <td>Anika</td>\n",
       "      <td>20</td>\n",
       "      <td>Dhaka</td>\n",
       "      <td>female</td>\n",
       "      <td>Student</td>\n",
       "    </tr>\n",
       "    <tr>\n",
       "      <th>1</th>\n",
       "      <td>Raj</td>\n",
       "      <td>22</td>\n",
       "      <td>Rajshahi</td>\n",
       "      <td>male</td>\n",
       "      <td>Teacher</td>\n",
       "    </tr>\n",
       "    <tr>\n",
       "      <th>2</th>\n",
       "      <td>Saarah</td>\n",
       "      <td>27</td>\n",
       "      <td>Dhaka</td>\n",
       "      <td>female</td>\n",
       "      <td>Engineer</td>\n",
       "    </tr>\n",
       "    <tr>\n",
       "      <th>3</th>\n",
       "      <td>Zahra</td>\n",
       "      <td>29</td>\n",
       "      <td>Chittagong</td>\n",
       "      <td>female</td>\n",
       "      <td>Economist</td>\n",
       "    </tr>\n",
       "    <tr>\n",
       "      <th>4</th>\n",
       "      <td>Abrar</td>\n",
       "      <td>25</td>\n",
       "      <td>Rajshahi</td>\n",
       "      <td>male</td>\n",
       "      <td>Doctor</td>\n",
       "    </tr>\n",
       "  </tbody>\n",
       "</table>\n",
       "</div>"
      ],
      "text/plain": [
       "     Name  Age        City  Gender Profession\n",
       "0   Anika   20       Dhaka  female    Student\n",
       "1     Raj   22    Rajshahi    male    Teacher\n",
       "2  Saarah   27       Dhaka  female   Engineer\n",
       "3   Zahra   29  Chittagong  female  Economist\n",
       "4   Abrar   25    Rajshahi    male     Doctor"
      ]
     },
     "execution_count": 18,
     "metadata": {},
     "output_type": "execute_result"
    }
   ],
   "source": [
    "df"
   ]
  },
  {
   "cell_type": "code",
   "execution_count": 19,
   "id": "c55d57f3-a29a-47d1-a6ed-b46a1a3a6daa",
   "metadata": {},
   "outputs": [
    {
     "data": {
      "text/plain": [
       "0    False\n",
       "1    False\n",
       "2     True\n",
       "3     True\n",
       "4    False\n",
       "Name: Age, dtype: bool"
      ]
     },
     "execution_count": 19,
     "metadata": {},
     "output_type": "execute_result"
    }
   ],
   "source": [
    "# people older than 25\n",
    "df[\"Age\"]>25"
   ]
  },
  {
   "cell_type": "code",
   "execution_count": 20,
   "id": "efa897ad-c75e-4900-b751-eeceaae2720d",
   "metadata": {},
   "outputs": [
    {
     "data": {
      "text/plain": [
       "0     True\n",
       "1    False\n",
       "2     True\n",
       "3    False\n",
       "4    False\n",
       "Name: City, dtype: bool"
      ]
     },
     "execution_count": 20,
     "metadata": {},
     "output_type": "execute_result"
    }
   ],
   "source": [
    "# people who live in Dhaka\n",
    "df[\"City\"]==\"Dhaka\""
   ]
  },
  {
   "cell_type": "markdown",
   "id": "416125f0-b505-45e0-baf8-e69c3488a9d6",
   "metadata": {},
   "source": [
    "<center>Now, the truth table for people whose (age > 25) and (lives in = Dhaka)</center>"
   ]
  },
  {
   "cell_type": "markdown",
   "id": "3c9b4975-94cc-4dec-845c-dae4d8ced148",
   "metadata": {},
   "source": [
    "index | Age | City| Output |\n",
    "------|-----|-----|--------|\n",
    "0     | 0   | 1   | 0      |\n",
    "1     | 0   | 0   | 0      |\n",
    "2     | 1   | 1   | 1      |\n",
    "3     | 1   | 0   | 0      |\n",
    "4     | 0   | 0   | 0      |"
   ]
  },
  {
   "cell_type": "markdown",
   "id": "6ad5399f-0f6f-4b4f-867d-cedf192b0514",
   "metadata": {},
   "source": [
    "Thus, it is seen that the second index will be returned since it matches all conditions and is an *and* operation. A step-by-step code is run for determining - Information of people whose age is greater than 25 and lives in Dhaka"
   ]
  },
  {
   "cell_type": "code",
   "execution_count": 22,
   "id": "b2afd2c5-d45f-48df-880f-90b916ba9185",
   "metadata": {},
   "outputs": [],
   "source": [
    "query1 = df[\"Age\"]>25\n",
    "query2 = df[\"City\"]==\"Dhaka\""
   ]
  },
  {
   "cell_type": "code",
   "execution_count": 23,
   "id": "46940a1a-fb0f-4673-9074-b5d2d0090627",
   "metadata": {},
   "outputs": [
    {
     "data": {
      "text/html": [
       "<div>\n",
       "<style scoped>\n",
       "    .dataframe tbody tr th:only-of-type {\n",
       "        vertical-align: middle;\n",
       "    }\n",
       "\n",
       "    .dataframe tbody tr th {\n",
       "        vertical-align: top;\n",
       "    }\n",
       "\n",
       "    .dataframe thead th {\n",
       "        text-align: right;\n",
       "    }\n",
       "</style>\n",
       "<table border=\"1\" class=\"dataframe\">\n",
       "  <thead>\n",
       "    <tr style=\"text-align: right;\">\n",
       "      <th></th>\n",
       "      <th>Name</th>\n",
       "      <th>Age</th>\n",
       "      <th>City</th>\n",
       "      <th>Gender</th>\n",
       "      <th>Profession</th>\n",
       "    </tr>\n",
       "  </thead>\n",
       "  <tbody>\n",
       "    <tr>\n",
       "      <th>2</th>\n",
       "      <td>Saarah</td>\n",
       "      <td>27</td>\n",
       "      <td>Dhaka</td>\n",
       "      <td>female</td>\n",
       "      <td>Engineer</td>\n",
       "    </tr>\n",
       "  </tbody>\n",
       "</table>\n",
       "</div>"
      ],
      "text/plain": [
       "     Name  Age   City  Gender Profession\n",
       "2  Saarah   27  Dhaka  female   Engineer"
      ]
     },
     "execution_count": 23,
     "metadata": {},
     "output_type": "execute_result"
    }
   ],
   "source": [
    "df[query1 & query2]"
   ]
  },
  {
   "cell_type": "markdown",
   "id": "bf4ebf9e-5e07-4f61-a468-52c7219467ac",
   "metadata": {},
   "source": [
    "The code can also be written as:"
   ]
  },
  {
   "cell_type": "code",
   "execution_count": 24,
   "id": "2d553d65-57b0-46cc-8801-eb0f6c39341b",
   "metadata": {},
   "outputs": [
    {
     "data": {
      "text/html": [
       "<div>\n",
       "<style scoped>\n",
       "    .dataframe tbody tr th:only-of-type {\n",
       "        vertical-align: middle;\n",
       "    }\n",
       "\n",
       "    .dataframe tbody tr th {\n",
       "        vertical-align: top;\n",
       "    }\n",
       "\n",
       "    .dataframe thead th {\n",
       "        text-align: right;\n",
       "    }\n",
       "</style>\n",
       "<table border=\"1\" class=\"dataframe\">\n",
       "  <thead>\n",
       "    <tr style=\"text-align: right;\">\n",
       "      <th></th>\n",
       "      <th>Name</th>\n",
       "      <th>Age</th>\n",
       "      <th>City</th>\n",
       "      <th>Gender</th>\n",
       "      <th>Profession</th>\n",
       "    </tr>\n",
       "  </thead>\n",
       "  <tbody>\n",
       "    <tr>\n",
       "      <th>2</th>\n",
       "      <td>Saarah</td>\n",
       "      <td>27</td>\n",
       "      <td>Dhaka</td>\n",
       "      <td>female</td>\n",
       "      <td>Engineer</td>\n",
       "    </tr>\n",
       "  </tbody>\n",
       "</table>\n",
       "</div>"
      ],
      "text/plain": [
       "     Name  Age   City  Gender Profession\n",
       "2  Saarah   27  Dhaka  female   Engineer"
      ]
     },
     "execution_count": 24,
     "metadata": {},
     "output_type": "execute_result"
    }
   ],
   "source": [
    "df[(df[\"Age\"]>25) & (df[\"City\"]==\"Dhaka\")]"
   ]
  },
  {
   "cell_type": "markdown",
   "id": "2226a8ef-b0c5-4d2d-a554-7fa1af877068",
   "metadata": {},
   "source": [
    "Make sure not to miss the brackets! Otherwise error is shown:"
   ]
  },
  {
   "cell_type": "code",
   "execution_count": 25,
   "id": "d45025b4-ce0c-4c54-96be-64ee66bf2710",
   "metadata": {},
   "outputs": [
    {
     "ename": "TypeError",
     "evalue": "Cannot perform 'rand_' with a dtyped [object] array and scalar of type [bool]",
     "output_type": "error",
     "traceback": [
      "\u001b[1;31m---------------------------------------------------------------------------\u001b[0m",
      "\u001b[1;31mTypeError\u001b[0m                                 Traceback (most recent call last)",
      "File \u001b[1;32m~\\AppData\\Local\\Programs\\Python\\Python312\\Lib\\site-packages\\pandas\\core\\ops\\array_ops.py:364\u001b[0m, in \u001b[0;36mna_logical_op\u001b[1;34m(x, y, op)\u001b[0m\n\u001b[0;32m    355\u001b[0m \u001b[38;5;28;01mtry\u001b[39;00m:\n\u001b[0;32m    356\u001b[0m     \u001b[38;5;66;03m# For exposition, write:\u001b[39;00m\n\u001b[0;32m    357\u001b[0m     \u001b[38;5;66;03m#  yarr = isinstance(y, np.ndarray)\u001b[39;00m\n\u001b[1;32m   (...)\u001b[0m\n\u001b[0;32m    362\u001b[0m     \u001b[38;5;66;03m# Then Cases where this goes through without raising include:\u001b[39;00m\n\u001b[0;32m    363\u001b[0m     \u001b[38;5;66;03m#  (xint or xbool) and (yint or bool)\u001b[39;00m\n\u001b[1;32m--> 364\u001b[0m     result \u001b[38;5;241m=\u001b[39m \u001b[43mop\u001b[49m\u001b[43m(\u001b[49m\u001b[43mx\u001b[49m\u001b[43m,\u001b[49m\u001b[43m \u001b[49m\u001b[43my\u001b[49m\u001b[43m)\u001b[49m\n\u001b[0;32m    365\u001b[0m \u001b[38;5;28;01mexcept\u001b[39;00m \u001b[38;5;167;01mTypeError\u001b[39;00m:\n",
      "File \u001b[1;32m~\\AppData\\Local\\Programs\\Python\\Python312\\Lib\\site-packages\\pandas\\core\\roperator.py:54\u001b[0m, in \u001b[0;36mrand_\u001b[1;34m(left, right)\u001b[0m\n\u001b[0;32m     53\u001b[0m \u001b[38;5;28;01mdef\u001b[39;00m \u001b[38;5;21mrand_\u001b[39m(left, right):\n\u001b[1;32m---> 54\u001b[0m     \u001b[38;5;28;01mreturn\u001b[39;00m \u001b[43moperator\u001b[49m\u001b[38;5;241;43m.\u001b[39;49m\u001b[43mand_\u001b[49m\u001b[43m(\u001b[49m\u001b[43mright\u001b[49m\u001b[43m,\u001b[49m\u001b[43m \u001b[49m\u001b[43mleft\u001b[49m\u001b[43m)\u001b[49m\n",
      "\u001b[1;31mTypeError\u001b[0m: unsupported operand type(s) for &: 'int' and 'str'",
      "\nDuring handling of the above exception, another exception occurred:\n",
      "\u001b[1;31mTypeError\u001b[0m                                 Traceback (most recent call last)",
      "File \u001b[1;32m~\\AppData\\Local\\Programs\\Python\\Python312\\Lib\\site-packages\\pandas\\core\\ops\\array_ops.py:378\u001b[0m, in \u001b[0;36mna_logical_op\u001b[1;34m(x, y, op)\u001b[0m\n\u001b[0;32m    377\u001b[0m \u001b[38;5;28;01mtry\u001b[39;00m:\n\u001b[1;32m--> 378\u001b[0m     result \u001b[38;5;241m=\u001b[39m \u001b[43mlibops\u001b[49m\u001b[38;5;241;43m.\u001b[39;49m\u001b[43mscalar_binop\u001b[49m\u001b[43m(\u001b[49m\u001b[43mx\u001b[49m\u001b[43m,\u001b[49m\u001b[43m \u001b[49m\u001b[43my\u001b[49m\u001b[43m,\u001b[49m\u001b[43m \u001b[49m\u001b[43mop\u001b[49m\u001b[43m)\u001b[49m\n\u001b[0;32m    379\u001b[0m \u001b[38;5;28;01mexcept\u001b[39;00m (\n\u001b[0;32m    380\u001b[0m     \u001b[38;5;167;01mTypeError\u001b[39;00m,\n\u001b[0;32m    381\u001b[0m     \u001b[38;5;167;01mValueError\u001b[39;00m,\n\u001b[1;32m   (...)\u001b[0m\n\u001b[0;32m    384\u001b[0m     \u001b[38;5;167;01mNotImplementedError\u001b[39;00m,\n\u001b[0;32m    385\u001b[0m ) \u001b[38;5;28;01mas\u001b[39;00m err:\n",
      "File \u001b[1;32mops.pyx:210\u001b[0m, in \u001b[0;36mpandas._libs.ops.scalar_binop\u001b[1;34m()\u001b[0m\n",
      "File \u001b[1;32m~\\AppData\\Local\\Programs\\Python\\Python312\\Lib\\site-packages\\pandas\\core\\roperator.py:54\u001b[0m, in \u001b[0;36mrand_\u001b[1;34m(left, right)\u001b[0m\n\u001b[0;32m     53\u001b[0m \u001b[38;5;28;01mdef\u001b[39;00m \u001b[38;5;21mrand_\u001b[39m(left, right):\n\u001b[1;32m---> 54\u001b[0m     \u001b[38;5;28;01mreturn\u001b[39;00m \u001b[43moperator\u001b[49m\u001b[38;5;241;43m.\u001b[39;49m\u001b[43mand_\u001b[49m\u001b[43m(\u001b[49m\u001b[43mright\u001b[49m\u001b[43m,\u001b[49m\u001b[43m \u001b[49m\u001b[43mleft\u001b[49m\u001b[43m)\u001b[49m\n",
      "\u001b[1;31mTypeError\u001b[0m: unsupported operand type(s) for &: 'bool' and 'str'",
      "\nThe above exception was the direct cause of the following exception:\n",
      "\u001b[1;31mTypeError\u001b[0m                                 Traceback (most recent call last)",
      "Cell \u001b[1;32mIn[25], line 1\u001b[0m\n\u001b[1;32m----> 1\u001b[0m df[df[\u001b[38;5;124m\"\u001b[39m\u001b[38;5;124mAge\u001b[39m\u001b[38;5;124m\"\u001b[39m]\u001b[38;5;241m>\u001b[39m\u001b[38;5;241;43m25\u001b[39;49m\u001b[43m \u001b[49m\u001b[38;5;241;43m&\u001b[39;49m\u001b[43m \u001b[49m\u001b[43mdf\u001b[49m\u001b[43m[\u001b[49m\u001b[38;5;124;43m\"\u001b[39;49m\u001b[38;5;124;43mCity\u001b[39;49m\u001b[38;5;124;43m\"\u001b[39;49m\u001b[43m]\u001b[49m\u001b[38;5;241m==\u001b[39m\u001b[38;5;124m\"\u001b[39m\u001b[38;5;124mDhaka\u001b[39m\u001b[38;5;124m\"\u001b[39m]\n",
      "File \u001b[1;32m~\\AppData\\Local\\Programs\\Python\\Python312\\Lib\\site-packages\\pandas\\core\\ops\\common.py:76\u001b[0m, in \u001b[0;36m_unpack_zerodim_and_defer.<locals>.new_method\u001b[1;34m(self, other)\u001b[0m\n\u001b[0;32m     72\u001b[0m             \u001b[38;5;28;01mreturn\u001b[39;00m \u001b[38;5;28mNotImplemented\u001b[39m\n\u001b[0;32m     74\u001b[0m other \u001b[38;5;241m=\u001b[39m item_from_zerodim(other)\n\u001b[1;32m---> 76\u001b[0m \u001b[38;5;28;01mreturn\u001b[39;00m \u001b[43mmethod\u001b[49m\u001b[43m(\u001b[49m\u001b[38;5;28;43mself\u001b[39;49m\u001b[43m,\u001b[49m\u001b[43m \u001b[49m\u001b[43mother\u001b[49m\u001b[43m)\u001b[49m\n",
      "File \u001b[1;32m~\\AppData\\Local\\Programs\\Python\\Python312\\Lib\\site-packages\\pandas\\core\\arraylike.py:74\u001b[0m, in \u001b[0;36mOpsMixin.__rand__\u001b[1;34m(self, other)\u001b[0m\n\u001b[0;32m     72\u001b[0m \u001b[38;5;129m@unpack_zerodim_and_defer\u001b[39m(\u001b[38;5;124m\"\u001b[39m\u001b[38;5;124m__rand__\u001b[39m\u001b[38;5;124m\"\u001b[39m)\n\u001b[0;32m     73\u001b[0m \u001b[38;5;28;01mdef\u001b[39;00m \u001b[38;5;21m__rand__\u001b[39m(\u001b[38;5;28mself\u001b[39m, other):\n\u001b[1;32m---> 74\u001b[0m     \u001b[38;5;28;01mreturn\u001b[39;00m \u001b[38;5;28;43mself\u001b[39;49m\u001b[38;5;241;43m.\u001b[39;49m\u001b[43m_logical_method\u001b[49m\u001b[43m(\u001b[49m\u001b[43mother\u001b[49m\u001b[43m,\u001b[49m\u001b[43m \u001b[49m\u001b[43mroperator\u001b[49m\u001b[38;5;241;43m.\u001b[39;49m\u001b[43mrand_\u001b[49m\u001b[43m)\u001b[49m\n",
      "File \u001b[1;32m~\\AppData\\Local\\Programs\\Python\\Python312\\Lib\\site-packages\\pandas\\core\\series.py:5810\u001b[0m, in \u001b[0;36mSeries._logical_method\u001b[1;34m(self, other, op)\u001b[0m\n\u001b[0;32m   5807\u001b[0m lvalues \u001b[38;5;241m=\u001b[39m \u001b[38;5;28mself\u001b[39m\u001b[38;5;241m.\u001b[39m_values\n\u001b[0;32m   5808\u001b[0m rvalues \u001b[38;5;241m=\u001b[39m extract_array(other, extract_numpy\u001b[38;5;241m=\u001b[39m\u001b[38;5;28;01mTrue\u001b[39;00m, extract_range\u001b[38;5;241m=\u001b[39m\u001b[38;5;28;01mTrue\u001b[39;00m)\n\u001b[1;32m-> 5810\u001b[0m res_values \u001b[38;5;241m=\u001b[39m \u001b[43mops\u001b[49m\u001b[38;5;241;43m.\u001b[39;49m\u001b[43mlogical_op\u001b[49m\u001b[43m(\u001b[49m\u001b[43mlvalues\u001b[49m\u001b[43m,\u001b[49m\u001b[43m \u001b[49m\u001b[43mrvalues\u001b[49m\u001b[43m,\u001b[49m\u001b[43m \u001b[49m\u001b[43mop\u001b[49m\u001b[43m)\u001b[49m\n\u001b[0;32m   5811\u001b[0m \u001b[38;5;28;01mreturn\u001b[39;00m \u001b[38;5;28mself\u001b[39m\u001b[38;5;241m.\u001b[39m_construct_result(res_values, name\u001b[38;5;241m=\u001b[39mres_name)\n",
      "File \u001b[1;32m~\\AppData\\Local\\Programs\\Python\\Python312\\Lib\\site-packages\\pandas\\core\\ops\\array_ops.py:456\u001b[0m, in \u001b[0;36mlogical_op\u001b[1;34m(left, right, op)\u001b[0m\n\u001b[0;32m    452\u001b[0m \u001b[38;5;28;01melse\u001b[39;00m:\n\u001b[0;32m    453\u001b[0m     \u001b[38;5;66;03m# i.e. scalar\u001b[39;00m\n\u001b[0;32m    454\u001b[0m     is_other_int_dtype \u001b[38;5;241m=\u001b[39m lib\u001b[38;5;241m.\u001b[39mis_integer(rvalues)\n\u001b[1;32m--> 456\u001b[0m res_values \u001b[38;5;241m=\u001b[39m \u001b[43mna_logical_op\u001b[49m\u001b[43m(\u001b[49m\u001b[43mlvalues\u001b[49m\u001b[43m,\u001b[49m\u001b[43m \u001b[49m\u001b[43mrvalues\u001b[49m\u001b[43m,\u001b[49m\u001b[43m \u001b[49m\u001b[43mop\u001b[49m\u001b[43m)\u001b[49m\n\u001b[0;32m    458\u001b[0m \u001b[38;5;66;03m# For int vs int `^`, `|`, `&` are bitwise operators and return\u001b[39;00m\n\u001b[0;32m    459\u001b[0m \u001b[38;5;66;03m#   integer dtypes.  Otherwise these are boolean ops\u001b[39;00m\n\u001b[0;32m    460\u001b[0m \u001b[38;5;28;01mif\u001b[39;00m \u001b[38;5;129;01mnot\u001b[39;00m (left\u001b[38;5;241m.\u001b[39mdtype\u001b[38;5;241m.\u001b[39mkind \u001b[38;5;129;01min\u001b[39;00m \u001b[38;5;124m\"\u001b[39m\u001b[38;5;124miu\u001b[39m\u001b[38;5;124m\"\u001b[39m \u001b[38;5;129;01mand\u001b[39;00m is_other_int_dtype):\n",
      "File \u001b[1;32m~\\AppData\\Local\\Programs\\Python\\Python312\\Lib\\site-packages\\pandas\\core\\ops\\array_ops.py:387\u001b[0m, in \u001b[0;36mna_logical_op\u001b[1;34m(x, y, op)\u001b[0m\n\u001b[0;32m    379\u001b[0m         \u001b[38;5;28;01mexcept\u001b[39;00m (\n\u001b[0;32m    380\u001b[0m             \u001b[38;5;167;01mTypeError\u001b[39;00m,\n\u001b[0;32m    381\u001b[0m             \u001b[38;5;167;01mValueError\u001b[39;00m,\n\u001b[1;32m   (...)\u001b[0m\n\u001b[0;32m    384\u001b[0m             \u001b[38;5;167;01mNotImplementedError\u001b[39;00m,\n\u001b[0;32m    385\u001b[0m         ) \u001b[38;5;28;01mas\u001b[39;00m err:\n\u001b[0;32m    386\u001b[0m             typ \u001b[38;5;241m=\u001b[39m \u001b[38;5;28mtype\u001b[39m(y)\u001b[38;5;241m.\u001b[39m\u001b[38;5;18m__name__\u001b[39m\n\u001b[1;32m--> 387\u001b[0m             \u001b[38;5;28;01mraise\u001b[39;00m \u001b[38;5;167;01mTypeError\u001b[39;00m(\n\u001b[0;32m    388\u001b[0m                 \u001b[38;5;124mf\u001b[39m\u001b[38;5;124m\"\u001b[39m\u001b[38;5;124mCannot perform \u001b[39m\u001b[38;5;124m'\u001b[39m\u001b[38;5;132;01m{\u001b[39;00mop\u001b[38;5;241m.\u001b[39m\u001b[38;5;18m__name__\u001b[39m\u001b[38;5;132;01m}\u001b[39;00m\u001b[38;5;124m'\u001b[39m\u001b[38;5;124m with a dtyped [\u001b[39m\u001b[38;5;132;01m{\u001b[39;00mx\u001b[38;5;241m.\u001b[39mdtype\u001b[38;5;132;01m}\u001b[39;00m\u001b[38;5;124m] array \u001b[39m\u001b[38;5;124m\"\u001b[39m\n\u001b[0;32m    389\u001b[0m                 \u001b[38;5;124mf\u001b[39m\u001b[38;5;124m\"\u001b[39m\u001b[38;5;124mand scalar of type [\u001b[39m\u001b[38;5;132;01m{\u001b[39;00mtyp\u001b[38;5;132;01m}\u001b[39;00m\u001b[38;5;124m]\u001b[39m\u001b[38;5;124m\"\u001b[39m\n\u001b[0;32m    390\u001b[0m             ) \u001b[38;5;28;01mfrom\u001b[39;00m \u001b[38;5;21;01merr\u001b[39;00m\n\u001b[0;32m    392\u001b[0m \u001b[38;5;28;01mreturn\u001b[39;00m result\u001b[38;5;241m.\u001b[39mreshape(x\u001b[38;5;241m.\u001b[39mshape)\n",
      "\u001b[1;31mTypeError\u001b[0m: Cannot perform 'rand_' with a dtyped [object] array and scalar of type [bool]"
     ]
    }
   ],
   "source": [
    "df[df[\"Age\"]>25 & df[\"City\"]==\"Dhaka\"]"
   ]
  },
  {
   "cell_type": "markdown",
   "id": "7a8237af-b491-4e63-aae7-2b3872d037bc",
   "metadata": {},
   "source": [
    "A similar exercise:"
   ]
  },
  {
   "cell_type": "markdown",
   "id": "f0007b71-27d1-426b-ac46-e50d532fd06a",
   "metadata": {},
   "source": [
    "#### 3. Information of people whose age is greater than 25 and less than 30 (Do It Yourself)"
   ]
  },
  {
   "cell_type": "markdown",
   "id": "019782be-d63b-480b-a3f9-86c51748e2ef",
   "metadata": {},
   "source": [
    "Now, for filtering the dataframe for more than one condition, two conditions are needed - age > 25 and age <30. "
   ]
  },
  {
   "cell_type": "code",
   "execution_count": 26,
   "id": "e37ccdfa-eb6d-4a12-8a03-73a27417c8b1",
   "metadata": {},
   "outputs": [
    {
     "data": {
      "text/html": [
       "<div>\n",
       "<style scoped>\n",
       "    .dataframe tbody tr th:only-of-type {\n",
       "        vertical-align: middle;\n",
       "    }\n",
       "\n",
       "    .dataframe tbody tr th {\n",
       "        vertical-align: top;\n",
       "    }\n",
       "\n",
       "    .dataframe thead th {\n",
       "        text-align: right;\n",
       "    }\n",
       "</style>\n",
       "<table border=\"1\" class=\"dataframe\">\n",
       "  <thead>\n",
       "    <tr style=\"text-align: right;\">\n",
       "      <th></th>\n",
       "      <th>Name</th>\n",
       "      <th>Age</th>\n",
       "      <th>City</th>\n",
       "      <th>Gender</th>\n",
       "      <th>Profession</th>\n",
       "    </tr>\n",
       "  </thead>\n",
       "  <tbody>\n",
       "    <tr>\n",
       "      <th>2</th>\n",
       "      <td>Saarah</td>\n",
       "      <td>27</td>\n",
       "      <td>Dhaka</td>\n",
       "      <td>female</td>\n",
       "      <td>Engineer</td>\n",
       "    </tr>\n",
       "    <tr>\n",
       "      <th>3</th>\n",
       "      <td>Zahra</td>\n",
       "      <td>29</td>\n",
       "      <td>Chittagong</td>\n",
       "      <td>female</td>\n",
       "      <td>Economist</td>\n",
       "    </tr>\n",
       "  </tbody>\n",
       "</table>\n",
       "</div>"
      ],
      "text/plain": [
       "     Name  Age        City  Gender Profession\n",
       "2  Saarah   27       Dhaka  female   Engineer\n",
       "3   Zahra   29  Chittagong  female  Economist"
      ]
     },
     "execution_count": 26,
     "metadata": {},
     "output_type": "execute_result"
    }
   ],
   "source": [
    "# Code for runnung the above condition\n",
    "df[(df[\"Age\"]>25) & ( df[\"Age\"]<30)]"
   ]
  },
  {
   "cell_type": "markdown",
   "id": "8d5f03e3-d518-43ff-90db-fd82e0b078e5",
   "metadata": {},
   "source": [
    "### OR Operation"
   ]
  },
  {
   "cell_type": "markdown",
   "id": "a82adddb-5def-49e6-8ace-3c0aa0466b79",
   "metadata": {},
   "source": [
    "Now, the *OR* operation will return *True* value if any of the input returns *True* value."
   ]
  },
  {
   "cell_type": "markdown",
   "id": "fc4488fb-984a-4b00-983f-0f21f8521059",
   "metadata": {},
   "source": [
    " <center>Truth Table for *OR* operation for three inputs:</center>"
   ]
  },
  {
   "cell_type": "markdown",
   "id": "fc8c7a93-aa2b-46b2-a8d2-77e645a361ba",
   "metadata": {},
   "source": [
    "\n",
    "| a   | b   | c  | Output |\n",
    "|-----|-----|----|--------|\n",
    "| 0   | 0   | 0  | 0      |\n",
    "| 0   | 0   | 1  | 1      |\n",
    "| 0   | 1   | 0  | 1      |\n",
    "| 0   | 1   | 1  | 1      |\n",
    "| 1   | 0   | 0  | 1      |\n",
    "| 1   | 0   | 1  | 1      |\n",
    "| 1   | 1   | 0  | 1      |\n",
    "| 1   | 1   | 1  | 1      |\n"
   ]
  },
  {
   "cell_type": "markdown",
   "id": "34ac26fd-dd50-4dd3-9494-e8e663a36953",
   "metadata": {},
   "source": [
    "#### 4. Information of people living in Dhaka or Chittagong"
   ]
  },
  {
   "cell_type": "markdown",
   "id": "e2514d33-d7f7-4ccf-a598-af2697a24894",
   "metadata": {},
   "source": [
    "Now, the dataframe is"
   ]
  },
  {
   "cell_type": "code",
   "execution_count": 27,
   "id": "5d6bfaf0-f9cc-4669-b234-87bd956ac5d5",
   "metadata": {
    "scrolled": true
   },
   "outputs": [
    {
     "data": {
      "text/html": [
       "<div>\n",
       "<style scoped>\n",
       "    .dataframe tbody tr th:only-of-type {\n",
       "        vertical-align: middle;\n",
       "    }\n",
       "\n",
       "    .dataframe tbody tr th {\n",
       "        vertical-align: top;\n",
       "    }\n",
       "\n",
       "    .dataframe thead th {\n",
       "        text-align: right;\n",
       "    }\n",
       "</style>\n",
       "<table border=\"1\" class=\"dataframe\">\n",
       "  <thead>\n",
       "    <tr style=\"text-align: right;\">\n",
       "      <th></th>\n",
       "      <th>Name</th>\n",
       "      <th>Age</th>\n",
       "      <th>City</th>\n",
       "      <th>Gender</th>\n",
       "      <th>Profession</th>\n",
       "    </tr>\n",
       "  </thead>\n",
       "  <tbody>\n",
       "    <tr>\n",
       "      <th>0</th>\n",
       "      <td>Anika</td>\n",
       "      <td>20</td>\n",
       "      <td>Dhaka</td>\n",
       "      <td>female</td>\n",
       "      <td>Student</td>\n",
       "    </tr>\n",
       "    <tr>\n",
       "      <th>1</th>\n",
       "      <td>Raj</td>\n",
       "      <td>22</td>\n",
       "      <td>Rajshahi</td>\n",
       "      <td>male</td>\n",
       "      <td>Teacher</td>\n",
       "    </tr>\n",
       "    <tr>\n",
       "      <th>2</th>\n",
       "      <td>Saarah</td>\n",
       "      <td>27</td>\n",
       "      <td>Dhaka</td>\n",
       "      <td>female</td>\n",
       "      <td>Engineer</td>\n",
       "    </tr>\n",
       "    <tr>\n",
       "      <th>3</th>\n",
       "      <td>Zahra</td>\n",
       "      <td>29</td>\n",
       "      <td>Chittagong</td>\n",
       "      <td>female</td>\n",
       "      <td>Economist</td>\n",
       "    </tr>\n",
       "    <tr>\n",
       "      <th>4</th>\n",
       "      <td>Abrar</td>\n",
       "      <td>25</td>\n",
       "      <td>Rajshahi</td>\n",
       "      <td>male</td>\n",
       "      <td>Doctor</td>\n",
       "    </tr>\n",
       "  </tbody>\n",
       "</table>\n",
       "</div>"
      ],
      "text/plain": [
       "     Name  Age        City  Gender Profession\n",
       "0   Anika   20       Dhaka  female    Student\n",
       "1     Raj   22    Rajshahi    male    Teacher\n",
       "2  Saarah   27       Dhaka  female   Engineer\n",
       "3   Zahra   29  Chittagong  female  Economist\n",
       "4   Abrar   25    Rajshahi    male     Doctor"
      ]
     },
     "execution_count": 27,
     "metadata": {},
     "output_type": "execute_result"
    }
   ],
   "source": [
    "df"
   ]
  },
  {
   "cell_type": "code",
   "execution_count": 28,
   "id": "b556e31f-adc5-452f-b07e-b73d73de5904",
   "metadata": {},
   "outputs": [
    {
     "data": {
      "text/plain": [
       "0     True\n",
       "1    False\n",
       "2     True\n",
       "3    False\n",
       "4    False\n",
       "Name: City, dtype: bool"
      ]
     },
     "execution_count": 28,
     "metadata": {},
     "output_type": "execute_result"
    }
   ],
   "source": [
    "# people living in Dhaka\n",
    "df[\"City\"] == \"Dhaka\""
   ]
  },
  {
   "cell_type": "code",
   "execution_count": 29,
   "id": "36eadf2b-0163-49be-b0c5-cf55dd87c88c",
   "metadata": {},
   "outputs": [
    {
     "data": {
      "text/plain": [
       "0    False\n",
       "1    False\n",
       "2    False\n",
       "3     True\n",
       "4    False\n",
       "Name: City, dtype: bool"
      ]
     },
     "execution_count": 29,
     "metadata": {},
     "output_type": "execute_result"
    }
   ],
   "source": [
    "# people who live in Dhaka\n",
    "df[\"City\"] == \"Chittagong\""
   ]
  },
  {
   "cell_type": "markdown",
   "id": "4b333446-0c69-42cd-9090-7084a227e592",
   "metadata": {},
   "source": [
    "<center>Now, the truth table for people whose (lives in = Dhaka) or (lives in = Chittagong)</center>"
   ]
  },
  {
   "cell_type": "markdown",
   "id": "8995d5c0-1228-4ed5-9247-8fc352b55ee5",
   "metadata": {},
   "source": [
    "index | City(lives in Dhaka) | City(lives in Chittagong)| Output |\n",
    "------|----------------------|--------------------------|--------|\n",
    "0     | 1                    | 0                        | 1      |\n",
    "1     | 0                    | 0                        | 0      |\n",
    "2     | 1                    | 0                        | 1      |\n",
    "3     | 0                    | 1                        | 1      |\n",
    "4     | 0                    | 0                        | 0      |"
   ]
  },
  {
   "cell_type": "markdown",
   "id": "ca653f0e-cfb1-4bce-b5a9-11459f94e4c6",
   "metadata": {},
   "source": [
    "So, the index (0, 2 and 3) will be returned where the Truth-value is seen as *1* or *True*."
   ]
  },
  {
   "cell_type": "code",
   "execution_count": 30,
   "id": "ed46379b-e86e-427f-bcd3-842441820d38",
   "metadata": {},
   "outputs": [
    {
     "data": {
      "text/html": [
       "<div>\n",
       "<style scoped>\n",
       "    .dataframe tbody tr th:only-of-type {\n",
       "        vertical-align: middle;\n",
       "    }\n",
       "\n",
       "    .dataframe tbody tr th {\n",
       "        vertical-align: top;\n",
       "    }\n",
       "\n",
       "    .dataframe thead th {\n",
       "        text-align: right;\n",
       "    }\n",
       "</style>\n",
       "<table border=\"1\" class=\"dataframe\">\n",
       "  <thead>\n",
       "    <tr style=\"text-align: right;\">\n",
       "      <th></th>\n",
       "      <th>Name</th>\n",
       "      <th>Age</th>\n",
       "      <th>City</th>\n",
       "      <th>Gender</th>\n",
       "      <th>Profession</th>\n",
       "    </tr>\n",
       "  </thead>\n",
       "  <tbody>\n",
       "    <tr>\n",
       "      <th>0</th>\n",
       "      <td>Anika</td>\n",
       "      <td>20</td>\n",
       "      <td>Dhaka</td>\n",
       "      <td>female</td>\n",
       "      <td>Student</td>\n",
       "    </tr>\n",
       "    <tr>\n",
       "      <th>2</th>\n",
       "      <td>Saarah</td>\n",
       "      <td>27</td>\n",
       "      <td>Dhaka</td>\n",
       "      <td>female</td>\n",
       "      <td>Engineer</td>\n",
       "    </tr>\n",
       "    <tr>\n",
       "      <th>3</th>\n",
       "      <td>Zahra</td>\n",
       "      <td>29</td>\n",
       "      <td>Chittagong</td>\n",
       "      <td>female</td>\n",
       "      <td>Economist</td>\n",
       "    </tr>\n",
       "  </tbody>\n",
       "</table>\n",
       "</div>"
      ],
      "text/plain": [
       "     Name  Age        City  Gender Profession\n",
       "0   Anika   20       Dhaka  female    Student\n",
       "2  Saarah   27       Dhaka  female   Engineer\n",
       "3   Zahra   29  Chittagong  female  Economist"
      ]
     },
     "execution_count": 30,
     "metadata": {},
     "output_type": "execute_result"
    }
   ],
   "source": [
    "query1 = df[\"City\"] == \"Dhaka\"\n",
    "query2 = df[\"City\"] == \"Chittagong\"\n",
    "df[query1 | query2] "
   ]
  },
  {
   "cell_type": "markdown",
   "id": "0cc68853-6f72-434a-9452-f77a19d01a3e",
   "metadata": {},
   "source": [
    "The code can also be written as:"
   ]
  },
  {
   "cell_type": "code",
   "execution_count": null,
   "id": "1972d04b-d2d9-4496-9ab0-787536c0234b",
   "metadata": {},
   "outputs": [],
   "source": [
    "df[(df[\"City\"] == \"Dhaka\") | (df[\"City\"] == \"Chittagong\")]"
   ]
  },
  {
   "cell_type": "markdown",
   "id": "21e057e3-03e6-4e31-8f87-86dd4de34f47",
   "metadata": {},
   "source": [
    "## Information of people whose age is greater than 20 or lives in Rajshahi or is male"
   ]
  },
  {
   "cell_type": "code",
   "execution_count": 36,
   "id": "32a698e0-1d01-4d76-a997-62f408af75de",
   "metadata": {},
   "outputs": [
    {
     "data": {
      "text/html": [
       "<div>\n",
       "<style scoped>\n",
       "    .dataframe tbody tr th:only-of-type {\n",
       "        vertical-align: middle;\n",
       "    }\n",
       "\n",
       "    .dataframe tbody tr th {\n",
       "        vertical-align: top;\n",
       "    }\n",
       "\n",
       "    .dataframe thead th {\n",
       "        text-align: right;\n",
       "    }\n",
       "</style>\n",
       "<table border=\"1\" class=\"dataframe\">\n",
       "  <thead>\n",
       "    <tr style=\"text-align: right;\">\n",
       "      <th></th>\n",
       "      <th>Name</th>\n",
       "      <th>Age</th>\n",
       "      <th>City</th>\n",
       "      <th>Gender</th>\n",
       "      <th>Profession</th>\n",
       "    </tr>\n",
       "  </thead>\n",
       "  <tbody>\n",
       "    <tr>\n",
       "      <th>1</th>\n",
       "      <td>Raj</td>\n",
       "      <td>22</td>\n",
       "      <td>Rajshahi</td>\n",
       "      <td>male</td>\n",
       "      <td>Teacher</td>\n",
       "    </tr>\n",
       "    <tr>\n",
       "      <th>2</th>\n",
       "      <td>Saarah</td>\n",
       "      <td>27</td>\n",
       "      <td>Dhaka</td>\n",
       "      <td>female</td>\n",
       "      <td>Engineer</td>\n",
       "    </tr>\n",
       "    <tr>\n",
       "      <th>3</th>\n",
       "      <td>Zahra</td>\n",
       "      <td>29</td>\n",
       "      <td>Chittagong</td>\n",
       "      <td>female</td>\n",
       "      <td>Economist</td>\n",
       "    </tr>\n",
       "    <tr>\n",
       "      <th>4</th>\n",
       "      <td>Abrar</td>\n",
       "      <td>25</td>\n",
       "      <td>Rajshahi</td>\n",
       "      <td>male</td>\n",
       "      <td>Doctor</td>\n",
       "    </tr>\n",
       "  </tbody>\n",
       "</table>\n",
       "</div>"
      ],
      "text/plain": [
       "     Name  Age        City  Gender Profession\n",
       "1     Raj   22    Rajshahi    male    Teacher\n",
       "2  Saarah   27       Dhaka  female   Engineer\n",
       "3   Zahra   29  Chittagong  female  Economist\n",
       "4   Abrar   25    Rajshahi    male     Doctor"
      ]
     },
     "execution_count": 36,
     "metadata": {},
     "output_type": "execute_result"
    }
   ],
   "source": [
    "df[(df[\"Age\"] > 20) | (df[\"City\"] == \"Rajshahi\") | (df[\"Gender\"] == \"male\") ]"
   ]
  },
  {
   "cell_type": "markdown",
   "id": "c06dec0e-1d3c-4d25-87b7-f4e59fea8945",
   "metadata": {},
   "source": [
    "## Infomration of men who lives in Rajshahi and is older than 20."
   ]
  },
  {
   "cell_type": "code",
   "execution_count": 37,
   "id": "637eb537-c01d-443a-90f8-3d31e40fbefc",
   "metadata": {},
   "outputs": [
    {
     "data": {
      "text/html": [
       "<div>\n",
       "<style scoped>\n",
       "    .dataframe tbody tr th:only-of-type {\n",
       "        vertical-align: middle;\n",
       "    }\n",
       "\n",
       "    .dataframe tbody tr th {\n",
       "        vertical-align: top;\n",
       "    }\n",
       "\n",
       "    .dataframe thead th {\n",
       "        text-align: right;\n",
       "    }\n",
       "</style>\n",
       "<table border=\"1\" class=\"dataframe\">\n",
       "  <thead>\n",
       "    <tr style=\"text-align: right;\">\n",
       "      <th></th>\n",
       "      <th>Name</th>\n",
       "      <th>Age</th>\n",
       "      <th>City</th>\n",
       "      <th>Gender</th>\n",
       "      <th>Profession</th>\n",
       "    </tr>\n",
       "  </thead>\n",
       "  <tbody>\n",
       "    <tr>\n",
       "      <th>1</th>\n",
       "      <td>Raj</td>\n",
       "      <td>22</td>\n",
       "      <td>Rajshahi</td>\n",
       "      <td>male</td>\n",
       "      <td>Teacher</td>\n",
       "    </tr>\n",
       "    <tr>\n",
       "      <th>4</th>\n",
       "      <td>Abrar</td>\n",
       "      <td>25</td>\n",
       "      <td>Rajshahi</td>\n",
       "      <td>male</td>\n",
       "      <td>Doctor</td>\n",
       "    </tr>\n",
       "  </tbody>\n",
       "</table>\n",
       "</div>"
      ],
      "text/plain": [
       "    Name  Age      City Gender Profession\n",
       "1    Raj   22  Rajshahi   male    Teacher\n",
       "4  Abrar   25  Rajshahi   male     Doctor"
      ]
     },
     "execution_count": 37,
     "metadata": {},
     "output_type": "execute_result"
    }
   ],
   "source": [
    "df[(df[\"Age\"] > 20) & (df[\"City\"] == \"Rajshahi\") &(df[\"Gender\"] == \"male\") ]"
   ]
  },
  {
   "cell_type": "markdown",
   "id": "3211ef0a-9f40-424a-ab41-bc55372c8916",
   "metadata": {},
   "source": [
    "# New Task"
   ]
  },
  {
   "cell_type": "markdown",
   "id": "882a19a9-5786-4e38-98b6-8f25984f5bb5",
   "metadata": {},
   "source": [
    "Now, following task 7, the three conditions are given in three questions. Now print two dataframes where: \n",
    "1. Information of people whose age is greater than 20 or lives in Rajshahi or is male\n",
    "2. Infomration of men who lives in Rajshahi and is older than 20."
   ]
  },
  {
   "cell_type": "markdown",
   "id": "e21467b9-808a-4b44-a7f3-993e5af58dde",
   "metadata": {},
   "source": [
    "# Useful Links"
   ]
  },
  {
   "cell_type": "markdown",
   "id": "ce4a7375-71bc-4022-9b9d-93ba2e513939",
   "metadata": {},
   "source": [
    "1. https://www.geeksforgeeks.org/ways-to-filter-pandas-dataframe-by-column-values/\n",
    "2. https://www.geeksforgeeks.org/python-pandas-series-item/\n",
    "3. https://pandas.pydata.org/pandas-docs/stable/reference/api/pandas.DataFrame.filter.html\n",
    "4. https://datagy.io/filter-pandas/\n",
    "5. https://www.geeksforgeeks.org/python-pandas-series-item/"
   ]
  }
 ],
 "metadata": {
  "kernelspec": {
   "display_name": "Python 3 (ipykernel)",
   "language": "python",
   "name": "python3"
  },
  "language_info": {
   "codemirror_mode": {
    "name": "ipython",
    "version": 3
   },
   "file_extension": ".py",
   "mimetype": "text/x-python",
   "name": "python",
   "nbconvert_exporter": "python",
   "pygments_lexer": "ipython3",
   "version": "3.12.0"
  }
 },
 "nbformat": 4,
 "nbformat_minor": 5
}
