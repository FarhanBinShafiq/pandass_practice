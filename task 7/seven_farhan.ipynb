{
 "cells": [
  {
   "cell_type": "markdown",
   "id": "d1281ba1-0871-405f-a879-82af63113ebc",
   "metadata": {},
   "source": [
    "# Questions:\n",
    "### 1. Information of people whose age > 20\n",
    "### 2. Information of people who lives in Rajshahi\n",
    "### 3. Information of people whose gender is male \n"
   ]
  },
  {
   "cell_type": "code",
   "execution_count": 1,
   "id": "6b89f199-93f9-4664-a9fe-8358f418ab74",
   "metadata": {},
   "outputs": [],
   "source": [
    "import pandas as pd"
   ]
  },
  {
   "cell_type": "code",
   "execution_count": 2,
   "id": "64df9e90-2c0d-460c-9bec-136328883fbb",
   "metadata": {},
   "outputs": [
    {
     "name": "stdout",
     "output_type": "stream",
     "text": [
      "     Name  Age        City  Gender Profession\n",
      "0   Anika   20       Dhaka  female    Student\n",
      "1     Raj   22    Rajshahi    male    Teacher\n",
      "2  Saarah   27       Dhaka  female   Engineer\n",
      "3   Zahra   29  Chittagong  female  Economist\n",
      "4   Abrar   25    Rajshahi    male     Doctor\n"
     ]
    }
   ],
   "source": [
    "\n",
    "data = [['Anika', 20,\"Dhaka\",\"female\",\"Student\"],\n",
    "       ['Raj', 22,\"Rajshahi\",\"male\",\"Teacher\"],\n",
    "       ['Saarah', 27,\"Dhaka\",\"female\",\"Engineer\"],\n",
    "       ['Zahra', 29,\"Chittagong\",\"female\",\"Economist\"],\n",
    "       ['Abrar', 25,\"Rajshahi\",\"male\",\"Doctor\"]]\n",
    "df = pd.DataFrame(data, columns=['Name', 'Age','City',\"Gender\",'Profession'])\n",
    "print(df)"
   ]
  },
  {
   "cell_type": "code",
   "execution_count": 3,
   "id": "64838ea2-e67c-45cd-82b7-8bda09e79dd0",
   "metadata": {},
   "outputs": [
    {
     "name": "stdout",
     "output_type": "stream",
     "text": [
      "     Name  Age        City  Gender Profession\n",
      "1     Raj   22    Rajshahi    male    Teacher\n",
      "2  Saarah   27       Dhaka  female   Engineer\n",
      "3   Zahra   29  Chittagong  female  Economist\n",
      "4   Abrar   25    Rajshahi    male     Doctor\n"
     ]
    }
   ],
   "source": [
    "ages = df[df['Age'] > 20]\n",
    "print(ages)"
   ]
  },
  {
   "cell_type": "code",
   "execution_count": 4,
   "id": "591ade6c-9193-401f-b2c1-10c6b9a658e6",
   "metadata": {},
   "outputs": [
    {
     "name": "stdout",
     "output_type": "stream",
     "text": [
      "    Name  Age      City Gender Profession\n",
      "1    Raj   22  Rajshahi   male    Teacher\n",
      "4  Abrar   25  Rajshahi   male     Doctor\n"
     ]
    }
   ],
   "source": [
    "lives = df[df['City'] == 'Rajshahi']\n",
    "print(lives)"
   ]
  },
  {
   "cell_type": "code",
   "execution_count": 5,
   "id": "13267e52-d824-429b-9c24-f89f4389ce08",
   "metadata": {},
   "outputs": [
    {
     "name": "stdout",
     "output_type": "stream",
     "text": [
      "    Name  Age      City Gender Profession\n",
      "1    Raj   22  Rajshahi   male    Teacher\n",
      "4  Abrar   25  Rajshahi   male     Doctor\n"
     ]
    }
   ],
   "source": [
    "male = df[df[\"Gender\"] == 'male']\n",
    "print(male)\n"
   ]
  },
  {
   "cell_type": "code",
   "execution_count": null,
   "id": "be158506-7cdc-4f19-84f2-d5707316510f",
   "metadata": {},
   "outputs": [],
   "source": []
  },
  {
   "cell_type": "code",
   "execution_count": null,
   "id": "5aeb6a51-1745-4fc4-a987-aa30d0077b98",
   "metadata": {},
   "outputs": [],
   "source": []
  }
 ],
 "metadata": {
  "kernelspec": {
   "display_name": "Python 3 (ipykernel)",
   "language": "python",
   "name": "python3"
  },
  "language_info": {
   "codemirror_mode": {
    "name": "ipython",
    "version": 3
   },
   "file_extension": ".py",
   "mimetype": "text/x-python",
   "name": "python",
   "nbconvert_exporter": "python",
   "pygments_lexer": "ipython3",
   "version": "3.12.0"
  }
 },
 "nbformat": 4,
 "nbformat_minor": 5
}
