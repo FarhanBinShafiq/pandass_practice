{
 "cells": [
  {
   "cell_type": "code",
   "execution_count": 1,
   "id": "978628ab-b329-489b-9887-4ef80c2cb20f",
   "metadata": {},
   "outputs": [],
   "source": [
    "import os"
   ]
  },
  {
   "cell_type": "code",
   "execution_count": 2,
   "id": "c3b22b80-9be2-4f80-96ea-0cd54b4e7def",
   "metadata": {},
   "outputs": [
    {
     "data": {
      "text/plain": [
       "['.ipynb_checkpoints',\n",
       " '1.csv',\n",
       " '2.png',\n",
       " '3.csv',\n",
       " '4.csv',\n",
       " '5.do',\n",
       " '6',\n",
       " '7.csv',\n",
       " 'task3.docs',\n",
       " 'TASK_3.ipynb',\n",
       " 'Untitled.ipynb']"
      ]
     },
     "execution_count": 2,
     "metadata": {},
     "output_type": "execute_result"
    }
   ],
   "source": [
    "allFiles=os.listdir()\n",
    "allFiles"
   ]
  },
  {
   "cell_type": "code",
   "execution_count": 3,
   "id": "f033a952-5d16-4c1f-821e-4cff47b14274",
   "metadata": {},
   "outputs": [
    {
     "name": "stdout",
     "output_type": "stream",
     "text": [
      "1.csv is a csv file\n",
      "2.png is not a csv\n",
      "3.csv is a csv file\n",
      "4.csv is a csv file\n",
      "5.do is not a csv\n",
      "6 is not a csv\n",
      "task3.docs is not a csv\n",
      "TASK_3.ipynb is not a csv\n",
      "Untitled.ipynb is not a csv\n"
     ]
    }
   ],
   "source": [
    "csv_files=[]\n",
    "not_csv=[]\n",
    "\n",
    "\n",
    "for file in allFiles:\n",
    "   # print(file)\n",
    "    if file.endswith('.csv') and os.path.isfile(file):\n",
    "        print(file,'is a csv file' )\n",
    "        csv_files.append(file)\n",
    "    if not file.endswith('.csv')  and os.path.isfile(file):\n",
    "         print(file,'is not a csv')\n",
    "         not_csv.append(file)\n",
    "        \n",
    "         \n",
    "      "
   ]
  },
  {
   "cell_type": "code",
   "execution_count": 4,
   "id": "9a3e89ca-7af8-460b-8bd0-edebe198fbf1",
   "metadata": {},
   "outputs": [
    {
     "data": {
      "text/plain": [
       "3"
      ]
     },
     "execution_count": 4,
     "metadata": {},
     "output_type": "execute_result"
    }
   ],
   "source": [
    "csv_files\n",
    "len(csv_files)"
   ]
  },
  {
   "cell_type": "code",
   "execution_count": 5,
   "id": "7f79ba47-0e71-4b86-9201-c3f4391172c1",
   "metadata": {},
   "outputs": [
    {
     "data": {
      "text/plain": [
       "6"
      ]
     },
     "execution_count": 5,
     "metadata": {},
     "output_type": "execute_result"
    }
   ],
   "source": [
    "not_csv\n",
    "len(not_csv)"
   ]
  },
  {
   "cell_type": "code",
   "execution_count": 6,
   "id": "7a3947ab-fc1d-4b6c-bc62-ab4ef06f32a1",
   "metadata": {},
   "outputs": [
    {
     "data": {
      "text/plain": [
       "11"
      ]
     },
     "execution_count": 6,
     "metadata": {},
     "output_type": "execute_result"
    }
   ],
   "source": [
    "len(allFiles)"
   ]
  }
 ],
 "metadata": {
  "kernelspec": {
   "display_name": "Python 3 (ipykernel)",
   "language": "python",
   "name": "python3"
  },
  "language_info": {
   "codemirror_mode": {
    "name": "ipython",
    "version": 3
   },
   "file_extension": ".py",
   "mimetype": "text/x-python",
   "name": "python",
   "nbconvert_exporter": "python",
   "pygments_lexer": "ipython3",
   "version": "3.12.0"
  }
 },
 "nbformat": 4,
 "nbformat_minor": 5
}
