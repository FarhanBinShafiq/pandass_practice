{
 "cells": [
  {
   "cell_type": "code",
   "execution_count": 8,
   "id": "9c7c248a-942d-4421-bba3-a714870796d0",
   "metadata": {},
   "outputs": [
    {
     "name": "stdin",
     "output_type": "stream",
     "text": [
      "  4\n"
     ]
    },
    {
     "name": "stdout",
     "output_type": "stream",
     "text": [
      "*\n",
      "**\n",
      "***\n",
      "****\n"
     ]
    }
   ],
   "source": [
    "#############For Loops##############\n",
    "num = int(input(\" \"))       \n",
    "   \n",
    "for i in range(0, num):    #row print\n",
    "      \n",
    "        for j in range(0, i + 1):    #star  print\n",
    "        \n",
    "            print(\"*\", end=\"\")       \n",
    "        \n",
    "        print()    "
   ]
  },
  {
   "cell_type": "code",
   "execution_count": 2,
   "id": "24941046-d096-4b1b-9ea1-25dfc0d9b94f",
   "metadata": {},
   "outputs": [
    {
     "name": "stdin",
     "output_type": "stream",
     "text": [
      "  5\n"
     ]
    },
    {
     "name": "stdout",
     "output_type": "stream",
     "text": [
      "* \n",
      "* * \n",
      "* * * \n",
      "* * * * \n",
      "* * * * * \n"
     ]
    }
   ],
   "source": [
    "#######Function########\n",
    "\n",
    "def pyramid(n):\n",
    "    for i in range(0, n):    \n",
    "      \n",
    "        for j in range(0, i + 1):    \n",
    "        \n",
    "            print(\"* \", end=\"\")       \n",
    "        \n",
    "        print()   \n",
    "\n",
    "num = int(input(\" \"))    \n",
    "\n",
    "pyramid(n=num)\n"
   ]
  },
  {
   "cell_type": "code",
   "execution_count": 3,
   "id": "1e9cce7f-db80-4c8c-befa-449d1d38edc7",
   "metadata": {},
   "outputs": [
    {
     "name": "stdout",
     "output_type": "stream",
     "text": [
      "* \n",
      "* * \n",
      "* * * \n",
      "* * * * \n",
      "* * * * * \n",
      "* * * * * * \n"
     ]
    }
   ],
   "source": [
    "pyramid(6)\n",
    "\n"
   ]
  },
  {
   "cell_type": "code",
   "execution_count": 19,
   "id": "fbf6d6f7-5114-41b2-a374-2026dd29bb05",
   "metadata": {},
   "outputs": [
    {
     "name": "stdin",
     "output_type": "stream",
     "text": [
      " 5\n"
     ]
    },
    {
     "name": "stdout",
     "output_type": "stream",
     "text": [
      "    * \n",
      "   * * \n",
      "  * * * \n",
      " * * * * \n",
      "* * * * * \n"
     ]
    }
   ],
   "source": [
    " \n",
    " #######Loop###############\n",
    "x = int(input(\"\"))\n",
    "\n",
    "for i in range(x): #row\n",
    "    \n",
    "    for j in range(x-i-1): #space-> \n",
    "        print(\" \"  , end=\"\")\n",
    "    \n",
    "   \n",
    "    for j in range( i+1): #star\n",
    "        print(\"*\", end=\" \")\n",
    "    \n",
    "  \n",
    "    print()\n"
   ]
  },
  {
   "cell_type": "code",
   "execution_count": 12,
   "id": "3da0ddb8-1116-4a52-8e1a-d6ed22ac6eff",
   "metadata": {},
   "outputs": [
    {
     "name": "stdin",
     "output_type": "stream",
     "text": [
      " 5\n"
     ]
    },
    {
     "name": "stdout",
     "output_type": "stream",
     "text": [
      "    *\n",
      "   **\n",
      "  ***\n",
      " ****\n",
      "*****\n"
     ]
    }
   ],
   "source": [
    "x = int(input(\"\"))\n",
    "\n",
    "for i in range(x): #row\n",
    "    \n",
    "    for j in range(x-i-1): #space-> \n",
    "        print(\" \"  , end=\"\")\n",
    "    \n",
    "   \n",
    "    for j in range( i + 1): #star\n",
    "        print(\"*\", end=\"\") #just for space its prints from right side\n",
    "    \n",
    "  \n",
    "    print()\n",
    "\n"
   ]
  },
  {
   "cell_type": "code",
   "execution_count": null,
   "id": "3c779440-49dd-49b9-911c-04fe4f2ce373",
   "metadata": {},
   "outputs": [],
   "source": []
  }
 ],
 "metadata": {
  "kernelspec": {
   "display_name": "Python 3 (ipykernel)",
   "language": "python",
   "name": "python3"
  },
  "language_info": {
   "codemirror_mode": {
    "name": "ipython",
    "version": 3
   },
   "file_extension": ".py",
   "mimetype": "text/x-python",
   "name": "python",
   "nbconvert_exporter": "python",
   "pygments_lexer": "ipython3",
   "version": "3.12.0"
  }
 },
 "nbformat": 4,
 "nbformat_minor": 5
}
