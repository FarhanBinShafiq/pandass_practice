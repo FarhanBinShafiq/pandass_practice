{
 "cells": [
  {
   "cell_type": "code",
   "execution_count": 1,
   "id": "5f7760a4-ab11-4266-874e-56b0fb770f02",
   "metadata": {},
   "outputs": [],
   "source": [
    "import pandas as pd\n",
    "import os"
   ]
  },
  {
   "cell_type": "code",
   "execution_count": 2,
   "id": "1bec2d25-8d15-49e6-9781-a36e8f70988a",
   "metadata": {},
   "outputs": [
    {
     "data": {
      "text/plain": [
       "['.ipynb_checkpoints',\n",
       " 'Divided Dataset based on product name',\n",
       " 'ProductPriceIndex.csv',\n",
       " 'six_farhan.ipynb']"
      ]
     },
     "execution_count": 2,
     "metadata": {},
     "output_type": "execute_result"
    }
   ],
   "source": [
    "file=os.listdir()\n",
    "file"
   ]
  },
  {
   "cell_type": "code",
   "execution_count": 3,
   "id": "4d1a1763-ae6f-4a3c-9d42-760a41d70468",
   "metadata": {
    "scrolled": true
   },
   "outputs": [
    {
     "data": {
      "text/html": [
       "<div>\n",
       "<style scoped>\n",
       "    .dataframe tbody tr th:only-of-type {\n",
       "        vertical-align: middle;\n",
       "    }\n",
       "\n",
       "    .dataframe tbody tr th {\n",
       "        vertical-align: top;\n",
       "    }\n",
       "\n",
       "    .dataframe thead th {\n",
       "        text-align: right;\n",
       "    }\n",
       "</style>\n",
       "<table border=\"1\" class=\"dataframe\">\n",
       "  <thead>\n",
       "    <tr style=\"text-align: right;\">\n",
       "      <th></th>\n",
       "      <th>productname</th>\n",
       "      <th>date</th>\n",
       "      <th>farmprice</th>\n",
       "      <th>atlantaretail</th>\n",
       "      <th>chicagoretail</th>\n",
       "      <th>losangelesretail</th>\n",
       "      <th>newyorkretail</th>\n",
       "      <th>averagespread</th>\n",
       "    </tr>\n",
       "  </thead>\n",
       "  <tbody>\n",
       "    <tr>\n",
       "      <th>0</th>\n",
       "      <td>Strawberries</td>\n",
       "      <td>2019-05-19</td>\n",
       "      <td>$1.16</td>\n",
       "      <td>$2.23</td>\n",
       "      <td>$1.70</td>\n",
       "      <td>$1.99</td>\n",
       "      <td>$2.54</td>\n",
       "      <td>82.33%</td>\n",
       "    </tr>\n",
       "    <tr>\n",
       "      <th>1</th>\n",
       "      <td>Romaine Lettuce</td>\n",
       "      <td>2019-05-19</td>\n",
       "      <td>$0.35</td>\n",
       "      <td>$1.72</td>\n",
       "      <td>$2.00</td>\n",
       "      <td>$1.69</td>\n",
       "      <td>$1.99</td>\n",
       "      <td>428.57%</td>\n",
       "    </tr>\n",
       "    <tr>\n",
       "      <th>2</th>\n",
       "      <td>Red Leaf Lettuce</td>\n",
       "      <td>2019-05-19</td>\n",
       "      <td>$0.32</td>\n",
       "      <td>$1.84</td>\n",
       "      <td>$1.84</td>\n",
       "      <td>$1.69</td>\n",
       "      <td>$1.89</td>\n",
       "      <td>467.19%</td>\n",
       "    </tr>\n",
       "    <tr>\n",
       "      <th>3</th>\n",
       "      <td>Potatoes</td>\n",
       "      <td>2019-05-19</td>\n",
       "      <td>$1.50</td>\n",
       "      <td>$5.32</td>\n",
       "      <td>$5.14</td>\n",
       "      <td>$3.99</td>\n",
       "      <td>$6.22</td>\n",
       "      <td>244.50%</td>\n",
       "    </tr>\n",
       "    <tr>\n",
       "      <th>4</th>\n",
       "      <td>Oranges</td>\n",
       "      <td>2019-05-19</td>\n",
       "      <td>$0.41</td>\n",
       "      <td>$1.42</td>\n",
       "      <td>$1.45</td>\n",
       "      <td>$1.34</td>\n",
       "      <td>$2.05</td>\n",
       "      <td>281.71%</td>\n",
       "    </tr>\n",
       "    <tr>\n",
       "      <th>...</th>\n",
       "      <td>...</td>\n",
       "      <td>...</td>\n",
       "      <td>...</td>\n",
       "      <td>...</td>\n",
       "      <td>...</td>\n",
       "      <td>...</td>\n",
       "      <td>...</td>\n",
       "      <td>...</td>\n",
       "    </tr>\n",
       "    <tr>\n",
       "      <th>15761</th>\n",
       "      <td>Broccoli Crowns</td>\n",
       "      <td>1999-10-24</td>\n",
       "      <td>$0.29</td>\n",
       "      <td>$1.46</td>\n",
       "      <td>$0.00</td>\n",
       "      <td>$0.97</td>\n",
       "      <td>$1.15</td>\n",
       "      <td>208.62%</td>\n",
       "    </tr>\n",
       "    <tr>\n",
       "      <th>15762</th>\n",
       "      <td>Broccoli Bunches</td>\n",
       "      <td>1999-10-24</td>\n",
       "      <td>$0.23</td>\n",
       "      <td>$1.21</td>\n",
       "      <td>$0.00</td>\n",
       "      <td>$0.84</td>\n",
       "      <td>$1.10</td>\n",
       "      <td>242.39%</td>\n",
       "    </tr>\n",
       "    <tr>\n",
       "      <th>15763</th>\n",
       "      <td>Cauliflower</td>\n",
       "      <td>1999-10-24</td>\n",
       "      <td>$0.19</td>\n",
       "      <td>$1.01</td>\n",
       "      <td>$0.00</td>\n",
       "      <td>$0.75</td>\n",
       "      <td>$0.92</td>\n",
       "      <td>252.63%</td>\n",
       "    </tr>\n",
       "    <tr>\n",
       "      <th>15764</th>\n",
       "      <td>Carrots</td>\n",
       "      <td>1999-10-24</td>\n",
       "      <td>$0.12</td>\n",
       "      <td>$0.64</td>\n",
       "      <td>$0.00</td>\n",
       "      <td>$0.84</td>\n",
       "      <td>$0.59</td>\n",
       "      <td>331.25%</td>\n",
       "    </tr>\n",
       "    <tr>\n",
       "      <th>15765</th>\n",
       "      <td>Cantaloupe</td>\n",
       "      <td>1999-10-24</td>\n",
       "      <td>$0.21</td>\n",
       "      <td>$0.54</td>\n",
       "      <td>$0.00</td>\n",
       "      <td>$0.56</td>\n",
       "      <td>$0.79</td>\n",
       "      <td>125.00%</td>\n",
       "    </tr>\n",
       "  </tbody>\n",
       "</table>\n",
       "<p>15766 rows × 8 columns</p>\n",
       "</div>"
      ],
      "text/plain": [
       "            productname        date farmprice atlantaretail chicagoretail  \\\n",
       "0          Strawberries  2019-05-19     $1.16         $2.23         $1.70   \n",
       "1       Romaine Lettuce  2019-05-19     $0.35         $1.72         $2.00   \n",
       "2      Red Leaf Lettuce  2019-05-19     $0.32         $1.84         $1.84   \n",
       "3              Potatoes  2019-05-19     $1.50         $5.32         $5.14   \n",
       "4               Oranges  2019-05-19     $0.41         $1.42         $1.45   \n",
       "...                 ...         ...       ...           ...           ...   \n",
       "15761   Broccoli Crowns  1999-10-24     $0.29         $1.46         $0.00   \n",
       "15762  Broccoli Bunches  1999-10-24     $0.23         $1.21         $0.00   \n",
       "15763       Cauliflower  1999-10-24     $0.19         $1.01         $0.00   \n",
       "15764           Carrots  1999-10-24     $0.12         $0.64         $0.00   \n",
       "15765        Cantaloupe  1999-10-24     $0.21         $0.54         $0.00   \n",
       "\n",
       "      losangelesretail newyorkretail averagespread  \n",
       "0                $1.99         $2.54        82.33%  \n",
       "1                $1.69         $1.99       428.57%  \n",
       "2                $1.69         $1.89       467.19%  \n",
       "3                $3.99         $6.22       244.50%  \n",
       "4                $1.34         $2.05       281.71%  \n",
       "...                ...           ...           ...  \n",
       "15761            $0.97         $1.15       208.62%  \n",
       "15762            $0.84         $1.10       242.39%  \n",
       "15763            $0.75         $0.92       252.63%  \n",
       "15764            $0.84         $0.59       331.25%  \n",
       "15765            $0.56         $0.79       125.00%  \n",
       "\n",
       "[15766 rows x 8 columns]"
      ]
     },
     "execution_count": 3,
     "metadata": {},
     "output_type": "execute_result"
    }
   ],
   "source": [
    "data = pd.read_csv(\"ProductPriceIndex.csv\")\n",
    "data"
   ]
  },
  {
   "cell_type": "markdown",
   "id": "ff7a7628-5351-407b-b7ee-7f2a66e31f86",
   "metadata": {},
   "source": [
    "#### one\n",
    "\n"
   ]
  },
  {
   "cell_type": "code",
   "execution_count": 4,
   "id": "02013f45-bc83-48ff-b24d-f7c74b681944",
   "metadata": {},
   "outputs": [
    {
     "data": {
      "text/plain": [
       "0            Strawberries\n",
       "1         Romaine Lettuce\n",
       "2        Red Leaf Lettuce\n",
       "3                Potatoes\n",
       "4                 Oranges\n",
       "               ...       \n",
       "15761     Broccoli Crowns\n",
       "15762    Broccoli Bunches\n",
       "15763         Cauliflower\n",
       "15764             Carrots\n",
       "15765          Cantaloupe\n",
       "Name: productname, Length: 15766, dtype: object"
      ]
     },
     "execution_count": 4,
     "metadata": {},
     "output_type": "execute_result"
    }
   ],
   "source": [
    "products=data[\"productname\"]\n",
    "products"
   ]
  },
  {
   "cell_type": "markdown",
   "id": "e775d454-3914-47a2-a8ba-cef2d18d9e5c",
   "metadata": {},
   "source": [
    "###### one\n"
   ]
  },
  {
   "cell_type": "code",
   "execution_count": 3,
   "id": "5a74e775-6505-450b-b334-75d5876e09dd",
   "metadata": {},
   "outputs": [
    {
     "ename": "NameError",
     "evalue": "name 'products' is not defined",
     "output_type": "error",
     "traceback": [
      "\u001b[1;31m---------------------------------------------------------------------------\u001b[0m",
      "\u001b[1;31mNameError\u001b[0m                                 Traceback (most recent call last)",
      "Cell \u001b[1;32mIn[3], line 1\u001b[0m\n\u001b[1;32m----> 1\u001b[0m \u001b[38;5;28;01mfor\u001b[39;00m product \u001b[38;5;129;01min\u001b[39;00m \u001b[43mproducts\u001b[49m:\n\u001b[0;32m      2\u001b[0m      \u001b[38;5;28;01mtry\u001b[39;00m:\n\u001b[0;32m      3\u001b[0m        \u001b[38;5;28mprint\u001b[39m(product)\n",
      "\u001b[1;31mNameError\u001b[0m: name 'products' is not defined"
     ]
    }
   ],
   "source": [
    "try:\n",
    "     for product in products:\n",
    "        print(product)\n",
    "        print('---------->',product[6]) \n",
    "except:\n",
    "     print(\"Error\")"
   ]
  },
  {
   "cell_type": "code",
   "execution_count": 6,
   "id": "b1c4b46c-af1f-4551-8695-f5d84819a2aa",
   "metadata": {},
   "outputs": [
    {
     "name": "stdout",
     "output_type": "stream",
     "text": [
      "Exists\n"
     ]
    }
   ],
   "source": [
    "try :\n",
    "    os.mkdir('Divided Dataset based on product name')\n",
    "except :\n",
    "    print('Exists')\n",
    "    \n",
    "  "
   ]
  },
  {
   "cell_type": "code",
   "execution_count": 7,
   "id": "c23d50c0-42e5-4fe6-ae08-e5f22d9f18c1",
   "metadata": {},
   "outputs": [
    {
     "data": {
      "text/plain": [
       "array(['Strawberries', 'Romaine Lettuce', 'Red Leaf Lettuce', 'Potatoes',\n",
       "       'Oranges', 'Iceberg Lettuce', 'Green Leaf Lettuce', 'Celery',\n",
       "       'Cauliflower', 'Carrots', 'Cantaloupe', 'Broccoli Crowns',\n",
       "       'Avocados', 'Broccoli Bunches', 'Asparagus', 'Flame Grapes',\n",
       "       'Thompson Grapes', 'Honeydews', 'Tomatoes', 'Plums', 'Peaches',\n",
       "       'Nectarines'], dtype=object)"
      ]
     },
     "execution_count": 7,
     "metadata": {},
     "output_type": "execute_result"
    }
   ],
   "source": [
    " products.unique()"
   ]
  },
  {
   "cell_type": "code",
   "execution_count": null,
   "id": "30aaca2e-cf67-4a3b-9413-d163229bdc43",
   "metadata": {},
   "outputs": [],
   "source": []
  }
 ],
 "metadata": {
  "kernelspec": {
   "display_name": "Python 3 (ipykernel)",
   "language": "python",
   "name": "python3"
  },
  "language_info": {
   "codemirror_mode": {
    "name": "ipython",
    "version": 3
   },
   "file_extension": ".py",
   "mimetype": "text/x-python",
   "name": "python",
   "nbconvert_exporter": "python",
   "pygments_lexer": "ipython3",
   "version": "3.12.0"
  }
 },
 "nbformat": 4,
 "nbformat_minor": 5
}
