{
 "cells": [
  {
   "cell_type": "markdown",
   "id": "28ed108f-69ce-4eaa-935c-fe82eb036767",
   "metadata": {},
   "source": [
    "A dataframe is given below. Based on the dataframe, answer the following questions:"
   ]
  },
  {
   "cell_type": "code",
   "execution_count": 2,
   "id": "39725aa8-2802-4e48-81d0-9ed5b8c0c1ca",
   "metadata": {},
   "outputs": [
    {
     "name": "stdout",
     "output_type": "stream",
     "text": [
      "     Name  Age        City  Gender Profession\n",
      "0   Anika   20       Dhaka  female    Student\n",
      "1     Raj   22    Rajshahi    male    Teacher\n",
      "2  Saarah   27       Dhaka  female   Engineer\n",
      "3   Zahra   29  Chittagong  female  Economist\n",
      "4   Abrar   25    Rajshahi    male     Doctor\n"
     ]
    }
   ],
   "source": [
    "import pandas as pd\n",
    "data = [['Anika', 20,\"Dhaka\",\"female\",\"Student\"],\n",
    "       ['Raj', 22,\"Rajshahi\",\"male\",\"Teacher\"],\n",
    "       ['Saarah', 27,\"Dhaka\",\"female\",\"Engineer\"],\n",
    "       ['Zahra', 29,\"Chittagong\",\"female\",\"Economist\"],\n",
    "       ['Abrar', 25,\"Rajshahi\",\"male\",\"Doctor\"]]\n",
    "df = pd.DataFrame(data, columns=['Name', 'Age','City',\"Gender\",'Profession'])\n",
    "print(df)"
   ]
  },
  {
   "cell_type": "markdown",
   "id": "4bdb0ef2-f94a-4c25-a26c-b5859f1c03a5",
   "metadata": {},
   "source": [
    "# Questions:"
   ]
  },
  {
   "cell_type": "markdown",
   "id": "0e9a2863-e5b5-4f8e-8680-1d230aed7b5f",
   "metadata": {},
   "source": [
    "### 1. Information of people whose age > 20"
   ]
  },
  {
   "cell_type": "markdown",
   "id": "6cbeeff7-f0a0-4ef2-920d-70b4e38dcb4a",
   "metadata": {},
   "source": [
    "### 2. Information of people who lives in Rajshahi"
   ]
  },
  {
   "cell_type": "markdown",
   "id": "9416f261-72dc-483e-aa4d-5fd20ce02626",
   "metadata": {},
   "source": [
    "### 3. Information of people whose gender is male "
   ]
  }
 ],
 "metadata": {
  "kernelspec": {
   "display_name": "Python 3 (ipykernel)",
   "language": "python",
   "name": "python3"
  },
  "language_info": {
   "codemirror_mode": {
    "name": "ipython",
    "version": 3
   },
   "file_extension": ".py",
   "mimetype": "text/x-python",
   "name": "python",
   "nbconvert_exporter": "python",
   "pygments_lexer": "ipython3",
   "version": "3.12.1"
  }
 },
 "nbformat": 4,
 "nbformat_minor": 5
}
