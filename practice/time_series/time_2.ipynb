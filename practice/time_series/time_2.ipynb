{
 "cells": [
  {
   "cell_type": "code",
   "execution_count": 3,
   "id": "c4551570-2e34-4ed4-9a1d-676aa04de958",
   "metadata": {},
   "outputs": [],
   "source": [
    "import datetime"
   ]
  },
  {
   "cell_type": "code",
   "execution_count": 5,
   "id": "6142d60f-28e0-4d5f-83ca-08832b20cef0",
   "metadata": {},
   "outputs": [
    {
     "name": "stdout",
     "output_type": "stream",
     "text": [
      "2023-07-12\n"
     ]
    }
   ],
   "source": [
    "x=datetime.date(2023,7,12)   ### print the given date as a date format.\n",
    "  \n",
    "print(x)"
   ]
  },
  {
   "cell_type": "code",
   "execution_count": 8,
   "id": "e5fe5d3b-b118-48c3-9006-fd0c236f7186",
   "metadata": {},
   "outputs": [
    {
     "name": "stdout",
     "output_type": "stream",
     "text": [
      "2024-03-25\n"
     ]
    }
   ],
   "source": [
    "tday=datetime.date.today()\n",
    "print(tday)"
   ]
  },
  {
   "cell_type": "markdown",
   "id": "79f36e43-0b43-4524-898a-f680d9190074",
   "metadata": {},
   "source": [
    "#### datetime module that represents a duration of time, rather than a specific point in time like datetime objects. It's used to perform arithmetic operations on datetime objects or to represent differences in time.It's commonly used to express differences between two datetime objects or to add/subtract a duration from a datetime object."
   ]
  },
  {
   "cell_type": "markdown",
   "id": "8feb09b8-b5de-4411-8a27-03db44c59e92",
   "metadata": {},
   "source": [
    "### From today to my day how many days i alived"
   ]
  },
  {
   "cell_type": "code",
   "execution_count": 7,
   "id": "4fc9e55b-7048-41f8-a634-d14d936df62a",
   "metadata": {},
   "outputs": [
    {
     "data": {
      "text/plain": [
       "datetime.timedelta(days=7)"
      ]
     },
     "execution_count": 7,
     "metadata": {},
     "output_type": "execute_result"
    }
   ],
   "source": [
    "tdelta=datetime.timedelta(days=7)\n",
    "tdelta"
   ]
  },
  {
   "cell_type": "code",
   "execution_count": 9,
   "id": "904e4360-5874-4369-bae4-0aa6c84a0972",
   "metadata": {},
   "outputs": [
    {
     "name": "stdout",
     "output_type": "stream",
     "text": [
      "2024-04-01\n"
     ]
    }
   ],
   "source": [
    "print(tday+tdelta)"
   ]
  },
  {
   "cell_type": "code",
   "execution_count": 14,
   "id": "1b3f33de-a365-4586-8d15-e4e54d7036fa",
   "metadata": {},
   "outputs": [
    {
     "data": {
      "text/plain": [
       "datetime.timedelta(days=10784)"
      ]
     },
     "execution_count": 14,
     "metadata": {},
     "output_type": "execute_result"
    }
   ],
   "source": [
    "b_day=datetime.date(1994,9,15)\n",
    "p_day=tday-bday\n",
    "p_day"
   ]
  },
  {
   "cell_type": "code",
   "execution_count": 18,
   "id": "4071dc42-5a7b-4cc4-ae24-5ea14426d834",
   "metadata": {},
   "outputs": [
    {
     "name": "stdout",
     "output_type": "stream",
     "text": [
      "931737600.0\n"
     ]
    }
   ],
   "source": [
    "print(p_day.total_seconds())"
   ]
  },
  {
   "cell_type": "code",
   "execution_count": 21,
   "id": "f173b420-e73c-459c-9a35-d9534465f68e",
   "metadata": {},
   "outputs": [
    {
     "name": "stdout",
     "output_type": "stream",
     "text": [
      "2024-03-25 13:02:49.617694\n",
      "2024-03-25 13:02:49.617693\n",
      "2024-03-25 07:02:49.617693\n"
     ]
    },
    {
     "name": "stderr",
     "output_type": "stream",
     "text": [
      "C:\\Users\\New User\\AppData\\Local\\Temp\\ipykernel_1196\\1208486719.py:3: DeprecationWarning: datetime.datetime.utcnow() is deprecated and scheduled for removal in a future version. Use timezone-aware objects to represent datetimes in UTC: datetime.datetime.now(datetime.UTC).\n",
      "  dt_utcnow=datetime.datetime.utcnow()\n"
     ]
    }
   ],
   "source": [
    "dt_today=datetime.datetime.today()\n",
    "dt_now=datetime.datetime.now()\n",
    "dt_utcnow=datetime.datetime.utcnow()\n",
    "\n",
    "print (dt_today)\n",
    "print(dt_now)\n",
    "print(dt_utcnow)"
   ]
  },
  {
   "cell_type": "code",
   "execution_count": null,
   "id": "6eb8b8ff-7529-496b-b375-ebecaea82d99",
   "metadata": {},
   "outputs": [],
   "source": [
    " "
   ]
  }
 ],
 "metadata": {
  "kernelspec": {
   "display_name": "Python 3 (ipykernel)",
   "language": "python",
   "name": "python3"
  },
  "language_info": {
   "codemirror_mode": {
    "name": "ipython",
    "version": 3
   },
   "file_extension": ".py",
   "mimetype": "text/x-python",
   "name": "python",
   "nbconvert_exporter": "python",
   "pygments_lexer": "ipython3",
   "version": "3.12.0"
  }
 },
 "nbformat": 4,
 "nbformat_minor": 5
}
