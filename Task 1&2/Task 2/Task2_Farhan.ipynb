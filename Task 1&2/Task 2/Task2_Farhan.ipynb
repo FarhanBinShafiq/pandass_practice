{
 "cells": [
  {
   "cell_type": "code",
   "execution_count": 1,
   "id": "5ae41bfa-030a-4d8c-bd1b-ceb84df0b932",
   "metadata": {},
   "outputs": [],
   "source": [
    "\n",
    "import os\n",
    "import pandas as pd\n",
    "import json\n",
    "import csv\n",
    "import glob"
   ]
  },
  {
   "cell_type": "code",
   "execution_count": 2,
   "id": "98621b9c-94a7-45d3-8518-7e9b5a0896d7",
   "metadata": {},
   "outputs": [],
   "source": [
    "# newFolder=os.mkdir('converting json to csv')"
   ]
  },
  {
   "cell_type": "code",
   "execution_count": 3,
   "id": "379b73bf-3266-4476-b236-a8c7df7ec2a6",
   "metadata": {
    "scrolled": true
   },
   "outputs": [
    {
     "data": {
      "text/plain": [
       "['.ipynb_checkpoints',\n",
       " 'converting json to csv',\n",
       " 'desktop.ini',\n",
       " 'FILES',\n",
       " 'first classs.ipynb',\n",
       " 'jupyter',\n",
       " 'My Music',\n",
       " 'My Pictures',\n",
       " 'My Videos',\n",
       " 'Python Scripts',\n",
       " 'Task',\n",
       " 'Task 3',\n",
       " 'Task2_Farhan.ipynb',\n",
       " 'Untitled.ipynb']"
      ]
     },
     "execution_count": 3,
     "metadata": {},
     "output_type": "execute_result"
    }
   ],
   "source": [
    "os.listdir()"
   ]
  },
  {
   "cell_type": "code",
   "execution_count": 4,
   "id": "c49e84f5-78d3-47b6-9508-499ba55c9ff9",
   "metadata": {},
   "outputs": [
    {
     "data": {
      "text/plain": [
       "'C:\\\\Users\\\\New User\\\\Documents'"
      ]
     },
     "execution_count": 4,
     "metadata": {},
     "output_type": "execute_result"
    }
   ],
   "source": [
    "currentDir=os.getcwd()\n",
    "currentDir"
   ]
  },
  {
   "cell_type": "code",
   "execution_count": 5,
   "id": "7dbf552e-d083-4051-9bdc-c11b9e488e66",
   "metadata": {},
   "outputs": [
    {
     "data": {
      "text/plain": [
       "'converting json to csv'"
      ]
     },
     "execution_count": 5,
     "metadata": {},
     "output_type": "execute_result"
    }
   ],
   "source": [
    "folder='converting json to csv'\n",
    "folder\n",
    " "
   ]
  },
  {
   "cell_type": "code",
   "execution_count": 6,
   "id": "ae73b424-5248-4728-9098-74422fc733e1",
   "metadata": {},
   "outputs": [
    {
     "name": "stdout",
     "output_type": "stream",
     "text": [
      "Exists\n"
     ]
    }
   ],
   "source": [
    "if not os.path.isdir(folder):\n",
    "    os.mkdir(folder)\n",
    "    print('Not Exists')   \n",
    "if  os.path.isdir(folder):\n",
    "    print('Exists')"
   ]
  },
  {
   "cell_type": "code",
   "execution_count": 7,
   "id": "bc7ed028-8c65-4ebb-835d-1743bdbf5248",
   "metadata": {},
   "outputs": [
    {
     "data": {
      "text/plain": [
       "['FILES\\\\df0.json',\n",
       " 'FILES\\\\df1.json',\n",
       " 'FILES\\\\df10.json',\n",
       " 'FILES\\\\df11.json',\n",
       " 'FILES\\\\df12.json',\n",
       " 'FILES\\\\df13.json',\n",
       " 'FILES\\\\df14.json',\n",
       " 'FILES\\\\df15.json',\n",
       " 'FILES\\\\df16.json',\n",
       " 'FILES\\\\df17.json',\n",
       " 'FILES\\\\df18.json',\n",
       " 'FILES\\\\df19.json',\n",
       " 'FILES\\\\df2.json',\n",
       " 'FILES\\\\df20.json',\n",
       " 'FILES\\\\df21.json',\n",
       " 'FILES\\\\df22.json',\n",
       " 'FILES\\\\df23.json',\n",
       " 'FILES\\\\df24.json',\n",
       " 'FILES\\\\df25.json',\n",
       " 'FILES\\\\df26.json',\n",
       " 'FILES\\\\df27.json',\n",
       " 'FILES\\\\df28.json',\n",
       " 'FILES\\\\df29.json',\n",
       " 'FILES\\\\df3.json',\n",
       " 'FILES\\\\df30.json',\n",
       " 'FILES\\\\df31.json',\n",
       " 'FILES\\\\df32.json',\n",
       " 'FILES\\\\df33.json',\n",
       " 'FILES\\\\df34.json',\n",
       " 'FILES\\\\df35.json',\n",
       " 'FILES\\\\df36.json',\n",
       " 'FILES\\\\df37.json',\n",
       " 'FILES\\\\df38.json',\n",
       " 'FILES\\\\df39.json',\n",
       " 'FILES\\\\df4.json',\n",
       " 'FILES\\\\df40.json',\n",
       " 'FILES\\\\df41.json',\n",
       " 'FILES\\\\df42.json',\n",
       " 'FILES\\\\df43.json',\n",
       " 'FILES\\\\df44.json',\n",
       " 'FILES\\\\df45.json',\n",
       " 'FILES\\\\df46.json',\n",
       " 'FILES\\\\df47.json',\n",
       " 'FILES\\\\df48.json',\n",
       " 'FILES\\\\df5.json',\n",
       " 'FILES\\\\df6.json',\n",
       " 'FILES\\\\df7.json',\n",
       " 'FILES\\\\df8.json',\n",
       " 'FILES\\\\df9.json']"
      ]
     },
     "execution_count": 7,
     "metadata": {},
     "output_type": "execute_result"
    }
   ],
   "source": [
    "path = 'FILES'\n",
    "files = glob.glob(path + '/*.json')\n",
    "files\n"
   ]
  },
  {
   "cell_type": "code",
   "execution_count": 8,
   "id": "c595ac31",
   "metadata": {
    "scrolled": true
   },
   "outputs": [
    {
     "name": "stdout",
     "output_type": "stream",
     "text": [
      "df0.json ----------> converting json to csv\\df0.csv\n",
      "df1.json ----------> converting json to csv\\df1.csv\n",
      "df10.json ----------> converting json to csv\\df10.csv\n",
      "df11.json ----------> converting json to csv\\df11.csv\n",
      "df12.json ----------> converting json to csv\\df12.csv\n",
      "df13.json ----------> converting json to csv\\df13.csv\n",
      "df14.json ----------> converting json to csv\\df14.csv\n",
      "df15.json ----------> converting json to csv\\df15.csv\n",
      "df16.json ----------> converting json to csv\\df16.csv\n",
      "df17.json ----------> converting json to csv\\df17.csv\n",
      "df18.json ----------> converting json to csv\\df18.csv\n",
      "df19.json ----------> converting json to csv\\df19.csv\n",
      "df2.json ----------> converting json to csv\\df2.csv\n",
      "df20.json ----------> converting json to csv\\df20.csv\n",
      "df21.json ----------> converting json to csv\\df21.csv\n",
      "df22.json ----------> converting json to csv\\df22.csv\n",
      "df23.json ----------> converting json to csv\\df23.csv\n",
      "df24.json ----------> converting json to csv\\df24.csv\n",
      "df25.json ----------> converting json to csv\\df25.csv\n",
      "df26.json ----------> converting json to csv\\df26.csv\n",
      "df27.json ----------> converting json to csv\\df27.csv\n",
      "df28.json ----------> converting json to csv\\df28.csv\n",
      "df29.json ----------> converting json to csv\\df29.csv\n",
      "df3.json ----------> converting json to csv\\df3.csv\n",
      "df30.json ----------> converting json to csv\\df30.csv\n",
      "df31.json ----------> converting json to csv\\df31.csv\n",
      "df32.json ----------> converting json to csv\\df32.csv\n",
      "df33.json ----------> converting json to csv\\df33.csv\n",
      "df34.json ----------> converting json to csv\\df34.csv\n",
      "df35.json ----------> converting json to csv\\df35.csv\n",
      "df36.json ----------> converting json to csv\\df36.csv\n",
      "df37.json ----------> converting json to csv\\df37.csv\n",
      "df38.json ----------> converting json to csv\\df38.csv\n",
      "df39.json ----------> converting json to csv\\df39.csv\n",
      "df4.json ----------> converting json to csv\\df4.csv\n",
      "df40.json ----------> converting json to csv\\df40.csv\n",
      "df41.json ----------> converting json to csv\\df41.csv\n",
      "df42.json ----------> converting json to csv\\df42.csv\n",
      "df43.json ----------> converting json to csv\\df43.csv\n",
      "df44.json ----------> converting json to csv\\df44.csv\n",
      "df45.json ----------> converting json to csv\\df45.csv\n",
      "df46.json ----------> converting json to csv\\df46.csv\n",
      "df47.json ----------> converting json to csv\\df47.csv\n",
      "df48.json ----------> converting json to csv\\df48.csv\n",
      "df5.json ----------> converting json to csv\\df5.csv\n",
      "df6.json ----------> converting json to csv\\df6.csv\n",
      "df7.json ----------> converting json to csv\\df7.csv\n",
      "df8.json ----------> converting json to csv\\df8.csv\n",
      "df9.json ----------> converting json to csv\\df9.csv\n"
     ]
    }
   ],
   "source": [
    " \n",
    "json_folder_path = 'FILES'\n",
    "\n",
    "\n",
    "for json_file in os.listdir(json_folder_path):\n",
    "    if json_file.endswith('.json'):\n",
    "       \n",
    "        json_file_path = os.path.join(json_folder_path, json_file)\n",
    "        \n",
    "        data = pd.read_json(json_file_path)\n",
    "\n",
    "         \n",
    "        csv_file_path = os.path.join(folder, os.path.splitext(json_file)[0] + '.csv')\n",
    "\n",
    "       \n",
    "        data.to_csv(csv_file_path)\n",
    "        \n",
    "        print(json_file, '---------->', csv_file_path)\n"
   ]
  },
  {
   "cell_type": "code",
   "execution_count": null,
   "id": "7ab108bf-cbc7-45ec-a4a3-67d18bd1fa9a",
   "metadata": {},
   "outputs": [],
   "source": []
  },
  {
   "cell_type": "code",
   "execution_count": null,
   "id": "14cc3d6b-86a6-4f9a-bc25-a603ab5e671a",
   "metadata": {},
   "outputs": [],
   "source": []
  }
 ],
 "metadata": {
  "kernelspec": {
   "display_name": "Python 3 (ipykernel)",
   "language": "python",
   "name": "python3"
  },
  "language_info": {
   "codemirror_mode": {
    "name": "ipython",
    "version": 3
   },
   "file_extension": ".py",
   "mimetype": "text/x-python",
   "name": "python",
   "nbconvert_exporter": "python",
   "pygments_lexer": "ipython3",
   "version": "3.12.0"
  }
 },
 "nbformat": 4,
 "nbformat_minor": 5
}
