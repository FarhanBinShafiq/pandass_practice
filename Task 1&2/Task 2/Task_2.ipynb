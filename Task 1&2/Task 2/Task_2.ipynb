{
 "cells": [
  {
   "cell_type": "code",
   "execution_count": 1,
   "id": "97b17435-abe1-452f-8831-bdf7ce5323ad",
   "metadata": {},
   "outputs": [],
   "source": [
    "import os\n",
    "import glob\n",
    "import pandas as pd\n"
   ]
  },
  {
   "cell_type": "code",
   "execution_count": 2,
   "id": "c3c513b0-591d-4271-8e98-a9d8c3fad544",
   "metadata": {},
   "outputs": [],
   "source": [
    "### Folder Create "
   ]
  },
  {
   "cell_type": "code",
   "execution_count": 3,
   "id": "79572bf4-aaf5-4ff4-bc25-decf07f2a108",
   "metadata": {},
   "outputs": [],
   "source": [
    "#newFolder=os.mkdir('converting json to csv')\n",
    "#newFolder\n",
    "\n"
   ]
  },
  {
   "cell_type": "code",
   "execution_count": 4,
   "id": "dbdcfba1-5125-41bf-a481-ce4aa9d26508",
   "metadata": {},
   "outputs": [
    {
     "data": {
      "text/plain": [
       "['.ipynb_checkpoints', 'converting json to csv', 'FILES', 'Task_2.ipynb']"
      ]
     },
     "execution_count": 4,
     "metadata": {},
     "output_type": "execute_result"
    }
   ],
   "source": [
    "os.listdir()"
   ]
  },
  {
   "cell_type": "code",
   "execution_count": 5,
   "id": "57010ca4-aa15-4b66-9982-f9fb8d14b53d",
   "metadata": {},
   "outputs": [
    {
     "data": {
      "text/plain": [
       "'converting json to csv'"
      ]
     },
     "execution_count": 5,
     "metadata": {},
     "output_type": "execute_result"
    }
   ],
   "source": [
    "folder='converting json to csv'\n",
    "folder"
   ]
  },
  {
   "cell_type": "code",
   "execution_count": 6,
   "id": "878c87f6-afee-430e-9979-8e3525084e19",
   "metadata": {},
   "outputs": [
    {
     "name": "stdout",
     "output_type": "stream",
     "text": [
      "Exists\n"
     ]
    }
   ],
   "source": [
    "if not os.path.isdir(folder):\n",
    "    os.mkdir(folder)\n",
    "    print('Not Exists')   \n",
    "if  os.path.isdir(folder):\n",
    "    print('Exists')\n"
   ]
  },
  {
   "cell_type": "code",
   "execution_count": 9,
   "id": "b4483f59-1e45-4de0-aff9-88e09f4acca5",
   "metadata": {},
   "outputs": [
    {
     "data": {
      "text/plain": [
       "['FILES\\\\df15.json',\n",
       " 'FILES\\\\df18.json',\n",
       " 'FILES\\\\df19.json',\n",
       " 'FILES\\\\df20.json',\n",
       " 'FILES\\\\df21.json',\n",
       " 'FILES\\\\df25.json',\n",
       " 'FILES\\\\df26.json',\n",
       " 'FILES\\\\df28.json',\n",
       " 'FILES\\\\df29.json',\n",
       " 'FILES\\\\df30.json',\n",
       " 'FILES\\\\df31.json',\n",
       " 'FILES\\\\df32.json',\n",
       " 'FILES\\\\df33.json',\n",
       " 'FILES\\\\df34.json',\n",
       " 'FILES\\\\df35.json',\n",
       " 'FILES\\\\df36.json',\n",
       " 'FILES\\\\df37.json',\n",
       " 'FILES\\\\df38.json',\n",
       " 'FILES\\\\df39.json',\n",
       " 'FILES\\\\df40.json',\n",
       " 'FILES\\\\df41.json',\n",
       " 'FILES\\\\df42.json',\n",
       " 'FILES\\\\df44.json',\n",
       " 'FILES\\\\df45.json',\n",
       " 'FILES\\\\df46.json',\n",
       " 'FILES\\\\df47.json',\n",
       " 'FILES\\\\df48.json']"
      ]
     },
     "execution_count": 9,
     "metadata": {},
     "output_type": "execute_result"
    }
   ],
   "source": [
    "path = 'FILES'\n",
    "files = glob.glob(path + '/*.json')\n",
    "files\n"
   ]
  }
 ],
 "metadata": {
  "kernelspec": {
   "display_name": "Python 3 (ipykernel)",
   "language": "python",
   "name": "python3"
  },
  "language_info": {
   "codemirror_mode": {
    "name": "ipython",
    "version": 3
   },
   "file_extension": ".py",
   "mimetype": "text/x-python",
   "name": "python",
   "nbconvert_exporter": "python",
   "pygments_lexer": "ipython3",
   "version": "3.12.0"
  }
 },
 "nbformat": 4,
 "nbformat_minor": 5
}
