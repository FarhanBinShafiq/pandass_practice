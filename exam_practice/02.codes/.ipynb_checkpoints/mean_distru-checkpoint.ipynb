{
 "cells": [
  {
   "cell_type": "code",
   "execution_count": null,
   "id": "a717001a-54c1-47af-a44e-913e2d36e8bc",
   "metadata": {},
   "outputs": [],
   "source": [
    "import pandas as pd\n",
    "\n",
    "df = pd.read_csv('ProductPriceIndex.csv')\n",
    "df\n",
    "\n",
    "df.farmprice = df.farmprice.str.replace(\"$\",\"\")\n",
    "df.farmprice\n",
    "\n",
    "unique_product_name = df[\"productname\"].unique().tolist()\n",
    "unique_product_name\n",
    "\n",
    "def dichotomous_variable_multiple(product_name, fruit_name):\n",
    "    if product_name == fruit_name:\n",
    "        return 1\n",
    "    else:\n",
    "        return 0 \n",
    "\n",
    "for product_name in unique_product_name:\n",
    "    df[product_name] = df[\"productname\"].apply(dichotomous_variable_multiple, args=(product_name,))\n",
    "\n",
    "for product_name in unique_product_name:\n",
    "    print(product_name)\n",
    "\n",
    "df[\"farmprice\"] = df[\"farmprice\"].replace(\"\",\"0\")\n",
    "\n",
    "df[\"farmprice_Numeric\"] = df[\"farmprice\"].str.replace(\"$\",\"\")\n",
    "df\n",
    "\n",
    "df[\"farmprice_Numeric\"] = df[\"farmprice_Numeric\"].replace(\"\",\"0\")\n",
    "\n",
    "\n",
    "df[\"farmprice_Numeric\"] = df[\"farmprice_Numeric\"].astype(float)\n",
    "df[\"farmprice_Numeric\"]\n",
    "\n",
    "farmprice_mean_by_date = df.groupby('date').agg({\"farmprice_Numeric\":\"mean\"}).reset_index()\n",
    "farmprice_mean_by_date\n",
    "\n",
    "farmprice_mean_by_productname = df.groupby('productname').agg({\"farmprice_Numeric\":\"mean\"}).reset_index()\n",
    "farmprice_mean_by_productname\n",
    "\n",
    "farmprice_mean_by_date_and_productname = df.groupby([\"productname\",\"date\"]).agg({\"farmprice_Numeric\":\"mean\"}).reset_index()\n",
    "farmprice_mean_by_date_and_productname\n",
    "\n",
    "writer = pd.ExcelWriter(f\"mean_distribution.xlsx\", engine='xlsxwriter')\n",
    "writer\n",
    "\n",
    "farmprice_mean_by_productname.to_excel(writer, sheet_name='farmprice_mean_by_productname',startrow = 1,index=False)\n",
    "\n",
    "sheet1 = writer.sheets['farmprice_mean_by_productname']\n",
    "sheet1.set_column('A:Z',20)\n",
    "sheet1.write(\"A1:C1\",\"This is the mean of the farmprice by productname.\")\n",
    "\n",
    "farmprice_mean_by_date.to_excel(writer, sheet_name='farmprice_mean_by_date',startrow = 1,index=False)\n",
    "\n",
    "writer.close()"
   ]
  }
 ],
 "metadata": {
  "kernelspec": {
   "display_name": "Python 3 (ipykernel)",
   "language": "python",
   "name": "python3"
  },
  "language_info": {
   "codemirror_mode": {
    "name": "ipython",
    "version": 3
   },
   "file_extension": ".py",
   "mimetype": "text/x-python",
   "name": "python",
   "nbconvert_exporter": "python",
   "pygments_lexer": "ipython3",
   "version": "3.12.1"
  }
 },
 "nbformat": 4,
 "nbformat_minor": 5
}
