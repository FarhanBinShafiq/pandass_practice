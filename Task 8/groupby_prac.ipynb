{
 "cells": [
  {
   "cell_type": "code",
   "execution_count": 1,
   "id": "1b179144",
   "metadata": {},
   "outputs": [
    {
     "name": "stdout",
     "output_type": "stream",
     "text": [
      "   Courses    Fee Duration  Discount\n",
      "0    Spark  22000   30days      1000\n",
      "1  PySpark  25000   50days      2300\n",
      "2   Hadoop  23000   55days      1000\n",
      "3   Python  24000   40days      1200\n",
      "4   Pandas  26000   60days      2500\n",
      "5   Hadoop  25000   35days      1300\n",
      "6    Spark  25000   55days      1400\n",
      "7   Python  22000   50days      1600\n"
     ]
    }
   ],
   "source": [
    "import pandas as pd\n",
    "technologies   = ({\n",
    "    'Courses':[\"Spark\",\"PySpark\",\"Hadoop\",\"Python\",\"Pandas\",\"Hadoop\",\"Spark\",\"Python\"],\n",
    "    'Fee' :[22000,25000,23000,24000,26000,25000,25000,22000],\n",
    "    'Duration':['30days','50days','55days','40days','60days','35days','55days','50days'],\n",
    "    'Discount':[1000,2300,1000,1200,2500,1300,1400,1600]\n",
    "                })\n",
    "df = pd.DataFrame(technologies, columns=['Courses','Fee','Duration','Discount'])\n",
    "print(  df)"
   ]
  },
  {
   "cell_type": "code",
   "execution_count": 2,
   "id": "d0e313d8",
   "metadata": {},
   "outputs": [
    {
     "name": "stdout",
     "output_type": "stream",
     "text": [
      "           Fee      Duration  Discount\n",
      "Courses                               \n",
      "Hadoop   48000  55days35days      2300\n",
      "Pandas   26000        60days      2500\n",
      "PySpark  25000        50days      2300\n",
      "Python   46000  40days50days      2800\n",
      "Spark    47000  30days55days      2400\n"
     ]
    }
   ],
   "source": [
    "# Use GroupBy() to compute the sum\n",
    "df2 = df.groupby('Courses').sum()\n",
    "print(  df2)"
   ]
  },
  {
   "cell_type": "code",
   "execution_count": 3,
   "id": "cf8d4851",
   "metadata": {},
   "outputs": [
    {
     "name": "stdout",
     "output_type": "stream",
     "text": [
      "Courses\n",
      "Hadoop     48000\n",
      "Pandas     26000\n",
      "PySpark    25000\n",
      "Python     46000\n",
      "Spark      47000\n",
      "Name: Fee, dtype: int64\n"
     ]
    }
   ],
   "source": [
    "# Use GroupBy() & compute sum on specific column\n",
    "df2 = df.groupby('Courses')['Fee'].sum()\n",
    "print(  df2)"
   ]
  },
  {
   "cell_type": "code",
   "execution_count": 4,
   "id": "32c4583f",
   "metadata": {},
   "outputs": [
    {
     "name": "stdout",
     "output_type": "stream",
     "text": [
      "Get sum of the grouped data:\n",
      " Courses  Duration\n",
      "Hadoop   35days      25000\n",
      "         55days      23000\n",
      "Pandas   60days      26000\n",
      "PySpark  50days      25000\n",
      "Python   40days      24000\n",
      "         50days      22000\n",
      "Spark    30days      22000\n",
      "         55days      25000\n",
      "Name: Fee, dtype: int64\n"
     ]
    }
   ],
   "source": [
    "# Using GroupBy multiple column\n",
    "df2 = df.groupby(['Courses','Duration'])['Fee'].sum()\n",
    "print(\"Get sum of the grouped data:\\n\", df2)"
   ]
  },
  {
   "cell_type": "code",
   "execution_count": 5,
   "id": "8fe242a9",
   "metadata": {},
   "outputs": [
    {
     "name": "stdout",
     "output_type": "stream",
     "text": [
      "Date\n",
      "2022    2\n",
      "2023    2\n",
      "dtype: int64\n"
     ]
    }
   ],
   "source": [
    "import pandas as pd\n",
    "\n",
    "# Sample DataFrame with a 'Date' column containing dates\n",
    "data = {\n",
    "    'Date': ['2022-01-01', '2022-02-01', '2023-01-01', '2023-02-01'],\n",
    "    # Other columns...\n",
    "}\n",
    "df = pd.DataFrame(data)\n",
    "\n",
    "# Convert 'Date' column to datetime format\n",
    "df['Date'] = pd.to_datetime(df['Date'])\n",
    "\n",
    "# Group by year and perform aggregation or other operations\n",
    "grouped_by_year = df.groupby(df['Date'].dt.year)\n",
    "\n",
    "# For example, you can count the number of rows in each group\n",
    "count_by_year = grouped_by_year.size()\n",
    "\n",
    "print(count_by_year)\n"
   ]
  },
  {
   "cell_type": "code",
   "execution_count": null,
   "id": "98cc935f",
   "metadata": {},
   "outputs": [],
   "source": []
  }
 ],
 "metadata": {
  "kernelspec": {
   "display_name": "Python 3 (ipykernel)",
   "language": "python",
   "name": "python3"
  },
  "language_info": {
   "codemirror_mode": {
    "name": "ipython",
    "version": 3
   },
   "file_extension": ".py",
   "mimetype": "text/x-python",
   "name": "python",
   "nbconvert_exporter": "python",
   "pygments_lexer": "ipython3",
   "version": "3.11.5"
  }
 },
 "nbformat": 4,
 "nbformat_minor": 5
}
